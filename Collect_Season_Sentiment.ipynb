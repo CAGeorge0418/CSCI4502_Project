{
 "cells": [
  {
   "cell_type": "code",
   "execution_count": 1,
   "id": "367905b4",
   "metadata": {},
   "outputs": [],
   "source": [
    "import pandas as pd\n",
    "import numpy as np\n",
    "from Collect_and_Clean_Tweets import create_full_data_frame, make_csv_from_df\n",
    "from tqdm import tqdm"
   ]
  },
  {
   "cell_type": "code",
   "execution_count": 2,
   "id": "0c397bd3",
   "metadata": {},
   "outputs": [],
   "source": [
    "list_of_queries_steelers =[\n",
    "    'Steelers ((#Steelers OR #HereWeGo)) until:2022-12-06 since:2022-08-13',\n",
    "    'Chiefs ((#Chiefs OR #ChiefsKingdom)) until:2022-12-06 since:2022-08-13',\n",
    "]\n",
    "list_csv_names_steelers =[\n",
    "    'Steelers_Season_Sentiment.csv',\n",
    "    'Chiefss_Season_Sentiment.csv'\n",
    "]\n",
    "assert(len(list_csv_names_steelers)==len(list_of_queries_steelers))"
   ]
  },
  {
   "cell_type": "code",
   "execution_count": 3,
   "id": "200ea2a1",
   "metadata": {},
   "outputs": [
    {
     "name": "stderr",
     "output_type": "stream",
     "text": [
      " 50%|█████     | 1/2 [04:12<04:12, 252.47s/it]"
     ]
    },
    {
     "name": "stdout",
     "output_type": "stream",
     "text": [
      "Steelers_Season_Sentiment.csv made\n"
     ]
    },
    {
     "name": "stderr",
     "output_type": "stream",
     "text": [
      "100%|██████████| 2/2 [08:38<00:00, 259.00s/it]"
     ]
    },
    {
     "name": "stdout",
     "output_type": "stream",
     "text": [
      "Chiefss_Season_Sentiment.csv made\n"
     ]
    },
    {
     "name": "stderr",
     "output_type": "stream",
     "text": [
      "\n"
     ]
    }
   ],
   "source": [
    "limit = 10000\n",
    "queries_less_than_500 = []\n",
    "for i, ele in enumerate(tqdm(list_of_queries_steelers)):\n",
    "    df = create_full_data_frame(list_of_queries_steelers[i],limit)\n",
    "    if(len(df)<=500):\n",
    "        #print(list_of_quries_broncos[i], len(df))\n",
    "        queries_less_than_500.append(i)\n",
    "    else:\n",
    "        make_csv_from_df(df,list_csv_names_steelers[i])\n",
    "        print(f\"{list_csv_names_steelers[i]} made\")"
   ]
  },
  {
   "cell_type": "code",
   "execution_count": null,
   "id": "96d4ce27",
   "metadata": {},
   "outputs": [],
   "source": []
  }
 ],
 "metadata": {
  "kernelspec": {
   "display_name": "Python 3.9.13 64-bit (microsoft store)",
   "language": "python",
   "name": "python3"
  },
  "language_info": {
   "codemirror_mode": {
    "name": "ipython",
    "version": 3
   },
   "file_extension": ".py",
   "mimetype": "text/x-python",
   "name": "python",
   "nbconvert_exporter": "python",
   "pygments_lexer": "ipython3",
   "version": "3.9.13"
  },
  "vscode": {
   "interpreter": {
    "hash": "6aa40184943719ff8ac736bd72f983c6c698908247fa2e3b3e297452c913fb30"
   }
  }
 },
 "nbformat": 4,
 "nbformat_minor": 5
}
