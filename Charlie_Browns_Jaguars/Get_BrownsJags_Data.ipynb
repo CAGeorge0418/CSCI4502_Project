{
 "cells": [
  {
   "cell_type": "code",
   "execution_count": 2,
   "id": "6a18916c",
   "metadata": {},
   "outputs": [],
   "source": [
    "import sys\n",
    "\n",
    "sys.path.append('../')\n",
    "\n",
    "import pandas as pd\n",
    "import numpy as np\n",
    "from Collect_and_Clean_Tweets import create_full_data_frame, make_csv_from_df\n",
    "from tqdm import tqdm"
   ]
  },
  {
   "cell_type": "code",
   "execution_count": 2,
   "id": "9639445c",
   "metadata": {},
   "outputs": [],
   "source": [
    "list_of_queries_browns =[\n",
    "    'Browns  (#Browns AND (-#DUUUVAL OR -#Jags)) until:2022-08-14 since:2022-08-11',\n",
    "    'Browns  (#Browns AND (-#Eagles OR -#FlyEaglesFly)) until:2022-08-23 since:2022-08-20',\n",
    "    'Browns  (#Browns AND (-#Bears OR -#DaBears)) until:2022-08-29 since:2022-08-26',\n",
    "    'Browns  (#Browns AND (-#Panthers OR -#KeepPounding)) until:2022-09-13 since:2022-09-10',\n",
    "    'Browns  (#Browns AND (-#Jets OR -#TakeFlight)) until:2022-09-20 since:2022-09-17',\n",
    "    'Browns  (#Browns AND (-#Steelers OR -#HereWeGo)) until:2022-09-24 since:2022-09-21',\n",
    "    'Browns  (#Browns AND (-#Falcons OR -#DirtyBirds)) until:2022-10-04 since:2022-10-01',\n",
    "    'Browns  (#Browns AND (-#Chargers OR -#BoltUp)) until:2022-10-11 since:2022-10-08',\n",
    "    'Browns  (#Browns AND (-#Patriots OR -#ForeverNE)) until:2022-10-18 since:2022-10-15',\n",
    "    'Browns  (#Browns AND (-#Ravens OR -#RavensFlock)) until:2022-10-25 since:2022-10-22',\n",
    "    'Browns  (#Browns AND (-#Bengals OR -#RuleTheJungle)) until:2022-11-02 since:2022-10-30',\n",
    "    'Browns  (#Browns AND (-#Dolphins OR -#FinsUp)) until:2022-11-15 since:2022-11-12',\n",
    "    'Browns  (#Browns AND (-#Bills OR -#BillsMafia)) until:2022-11-22 since:2022-11-19',\n",
    "    'Browns  (#Browns AND (-#GoBucs OR -#Buccaneers) until:2022-11-29 since:2022-11-26'\n",
    "]\n",
    "list_csv_names_browns =[\n",
    "    'Browns_CSVs/Browns_Pre_Game1_Jaguars.csv',\n",
    "    'Browns_CSVs/Browns_Pre_Game2_Eagles.csv',\n",
    "    'Browns_CSVs/Browns_Pre_Game3_Bears.csv',\n",
    "    'Browns_CSVs/Browns_Game1_Panthers.csv',\n",
    "    'Browns_CSVs/Browns_Game2_Jets.csv',\n",
    "    'Browns_CSVs/Browns_Game3_Steelers.csv',\n",
    "    'Browns_CSVs/Browns_Game4_Falcons.csv',\n",
    "    'Browns_CSVs/Browns_Game5_Chargers.csv',\n",
    "    'Browns_CSVs/Browns_Game6_Patriots.csv',\n",
    "    'Browns_CSVs/Browns_Game7_Ravens.csv',\n",
    "    'Browns_CSVs/Browns_Game8_Bengals.csv',\n",
    "    'Browns_CSVs/Browns_Game9_Dolphins.csv',\n",
    "    'Browns_CSVs/Browns_Game10_Bills.csv',\n",
    "    'Browns_CSVs/Browns_Game11_Buccaneers.csv'\n",
    "]\n",
    "assert(len(list_csv_names_browns)==len(list_of_queries_browns))"
   ]
  },
  {
   "cell_type": "code",
   "execution_count": 3,
   "id": "2bb89ff8",
   "metadata": {},
   "outputs": [],
   "source": [
    "list_of_queries_jags =[\n",
    "    'Jaguars  ((#Jaguars OR #DUUUVAL) AND (-#Raiders OR -#RaiderNation)) until:2022-08-06 since:2022-08-03',\n",
    "    'Jaguars  ((#Jaguars OR #DUUUVAL) AND -#Browns) until:2022-08-14 since:2022-08-11',\n",
    "    'Jaguars  ((#Jaguars OR #DUUUVAL) AND (-#Steelers OR -#HereWeGo)) until:2022-08-22 since:2022-08-19',\n",
    "    'Jaguars  ((#Jaguars OR #DUUUVAL) AND (-#Falcons OR -#DirtyBirds)) until:2022-08-29 since:2022-08-26',\n",
    "    'Jaguars  ((#Jaguars OR #DUUUVAL) AND (-#Commanders OR -#HTTC)) until:2022-09-13 since:2022-09-10',\n",
    "    'Jaguars  ((#Jaguars OR #DUUUVAL) AND (-#Colts OR -#ForTheShoe)) until:2022-09-20 since:2022-09-17',\n",
    "    'Jaguars  ((#Jaguars OR #DUUUVAL) AND (-#Chargers OR -#BoltUp)) until:2022-09-27 since:2022-09-24',\n",
    "    'Jaguars  ((#Jaguars OR #DUUUVAL) AND (-#Eagles OR -#FlyEaglesFly)) until:2022-10-04 since:2022-10-01',\n",
    "    'Jaguars  ((#Jaguars OR #DUUUVAL) AND (-#Texans OR -#WeAreTexans)) until:2022-10-11 since:2022-10-08',\n",
    "    'Jaguars  ((#Jaguars OR #DUUUVAL) AND (-#Colts OR -#ForTheShoe)) until:2022-10-18 since:2022-10-15',\n",
    "    'Jaguars  ((#Jaguars OR #DUUUVAL) AND (-#Giants OR -#TogetherBlue)) until:2022-10-25 since:2022-10-22',\n",
    "    'Jaguars  ((#Jaguars OR #DUUUVAL) AND (-#Broncos OR -#BroncosCountry)) until:2022-11-01 since:2022-10-29',\n",
    "    'Jaguars  ((#Jaguars OR #DUUUVAL) AND (-#Raiders OR -#RaiderNation)) until:2022-11-08 since:2022-11-05',\n",
    "    'Jaguars  ((#Jaguars OR #DUUUVAL) AND (-#Chiefs OR -#ChiefsKingdom)) until:2022-11-15 since:2022-11-12',\n",
    "    'Jaguars  ((#Jaguars OR #DUUUVAL) AND (-#Ravens OR -#RavensFlock)) until:2022-11-29 since:2022-11-26'\n",
    "]\n",
    "list_csv_names_jags =[\n",
    "    'Jaguars_CSVs/Jaguars_Pre_Game1_Raiders.csv',\n",
    "    'Jaguars_CSVs/Jaguars_Pre_Game2_Browns.csv',\n",
    "    'Jaguars_CSVs/Jaguars_Pre_Game3_Steelers.csv',\n",
    "    'Jaguars_CSVs/Jaguars_Pre_Game4_Falcons.csv',\n",
    "    'Jaguars_CSVs/Jaguars_Game1_Commanders.csv',\n",
    "    'Jaguars_CSVs/Jaguars_Game2_Colts.csv',\n",
    "    'Jaguars_CSVs/Jaguars_Game3_Chargers.csv',\n",
    "    'Jaguars_CSVs/Jaguars_Game4_Eagles.csv',\n",
    "    'Jaguars_CSVs/Jaguars_Game5_Texans.csv',\n",
    "    'Jaguars_CSVs/Jaguars_Game6_Colts.csv',\n",
    "    'Jaguars_CSVs/Jaguars_Game7_Giants.csv',\n",
    "    'Jaguars_CSVs/Jaguars_Game8_Broncos.csv',\n",
    "    'Jaguars_CSVs/Jaguars_Game9_Raiders.csv',\n",
    "    'Jaguars_CSVs/Jaguars_Game10_Chiefs.csv',\n",
    "    'Jaguars_CSVs/Jaguars_Game11_Ravens.csv'\n",
    "]\n",
    "assert(len(list_csv_names_jags)==len(list_of_queries_jags))"
   ]
  },
  {
   "cell_type": "code",
   "execution_count": 4,
   "id": "6dd06389",
   "metadata": {},
   "outputs": [
    {
     "name": "stderr",
     "output_type": "stream",
     "text": [
      "100%|█████████████████████████████████████████████████████████████████████████████████| 14/14 [59:58<00:00, 257.04s/it]\n"
     ]
    }
   ],
   "source": [
    "limit = 10000\n",
    "queries_less_than_500 = []\n",
    "for i, ele in enumerate(tqdm(list_of_queries_browns)):\n",
    "    df = create_full_data_frame(list_of_queries_browns[i],limit)\n",
    "    if(len(df)<=500):\n",
    "        #print(list_of_queries_browns[i], len(df))\n",
    "        queries_less_than_500.append(i)\n",
    "    else:\n",
    "        make_csv_from_df(df,list_csv_names_browns[i])\n",
    "        #print(f\"{list_csv_names_browns[i]} made\")"
   ]
  },
  {
   "cell_type": "code",
   "execution_count": 5,
   "id": "8583addb",
   "metadata": {},
   "outputs": [
    {
     "name": "stderr",
     "output_type": "stream",
     "text": [
      "100%|██████████████████████████████████████████████████████████████████████████████████| 15/15 [14:07<00:00, 56.49s/it]\n"
     ]
    }
   ],
   "source": [
    "limit = 10000\n",
    "queries_less_than_500 = []\n",
    "for i, ele in enumerate(tqdm(list_of_queries_jags)):\n",
    "    df = create_full_data_frame(list_of_queries_jags[i],limit)\n",
    "    if(len(df)<=500):\n",
    "        #print(list_of_queries_jags[i], len(df))\n",
    "        queries_less_than_500.append(i)\n",
    "    else:\n",
    "        make_csv_from_df(df,list_csv_names_jags[i])\n",
    "        #print(f\"{list_csv_names_jags[i]} made\")"
   ]
  }
 ],
 "metadata": {
  "kernelspec": {
   "display_name": "base",
   "language": "python",
   "name": "python3"
  },
  "language_info": {
   "codemirror_mode": {
    "name": "ipython",
    "version": 3
   },
   "file_extension": ".py",
   "mimetype": "text/x-python",
   "name": "python",
   "nbconvert_exporter": "python",
   "pygments_lexer": "ipython3",
   "version": "3.9.7"
  },
  "vscode": {
   "interpreter": {
    "hash": "16196ea7eff63910081d4e10ae1bdb1eb18fd83cb470bb8efbb9fa6b0c724af5"
   }
  }
 },
 "nbformat": 4,
 "nbformat_minor": 5
}
