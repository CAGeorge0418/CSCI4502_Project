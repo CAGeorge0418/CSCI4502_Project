{
 "cells": [
  {
   "cell_type": "code",
   "execution_count": 1,
   "id": "37bfffa1",
   "metadata": {},
   "outputs": [],
   "source": [
    "import pandas as pd\n",
    "import numpy as np\n",
    "import seaborn as sns\n",
    "import matplotlib.pyplot as plt\n",
    "import os\n",
    "from sklearn.feature_extraction.text import TfidfTransformer\n",
    "from sklearn.feature_extraction.text import TfidfVectorizer\n",
    "from sklearn.feature_extraction.text import CountVectorizer\n",
    "from mlxtend.frequent_patterns import apriori, association_rules, fpgrowth\n",
    "from mlxtend.preprocessing import TransactionEncoder"
   ]
  },
  {
   "cell_type": "code",
   "execution_count": 3,
   "id": "4f3190bb",
   "metadata": {},
   "outputs": [],
   "source": [
    "browns_csvs = os.listdir('Browns_CSVs')\n",
    "browns_dfs = [pd.read_csv('Browns_CSVs/'+csv) for csv in browns_csvs]\n",
    "jags_csvs = os.listdir('Jaguars_CSVs')\n",
    "jags_dfs = [pd.read_csv('Jaguars_CSVs/'+csv) for csv in jags_csvs]\n",
    "for df in browns_dfs:\n",
    "    df['Date'] = pd.to_datetime(df['Date'])\n",
    "for df in jags_dfs:\n",
    "    df['Date'] = pd.to_datetime(df['Date'])\n",
    "\n",
    "mega_Browns_df = pd.concat(browns_dfs)\n",
    "mega_Jags_df = pd.concat(jags_dfs)"
   ]
  },
  {
   "cell_type": "code",
   "execution_count": 4,
   "id": "8488ae56",
   "metadata": {},
   "outputs": [],
   "source": [
    "browns_data = mega_Browns_df['clean_Tweet']\n",
    "jags_data = mega_Jags_df['clean_Tweet']"
   ]
  },
  {
   "cell_type": "code",
   "execution_count": 5,
   "id": "6c9c831e",
   "metadata": {},
   "outputs": [
    {
     "data": {
      "text/html": [
       "<div>\n",
       "<style scoped>\n",
       "    .dataframe tbody tr th:only-of-type {\n",
       "        vertical-align: middle;\n",
       "    }\n",
       "\n",
       "    .dataframe tbody tr th {\n",
       "        vertical-align: top;\n",
       "    }\n",
       "\n",
       "    .dataframe thead th {\n",
       "        text-align: right;\n",
       "    }\n",
       "</style>\n",
       "<table border=\"1\" class=\"dataframe\">\n",
       "  <thead>\n",
       "    <tr style=\"text-align: right;\">\n",
       "      <th></th>\n",
       "      <th>support</th>\n",
       "      <th>itemsets</th>\n",
       "    </tr>\n",
       "  </thead>\n",
       "  <tbody>\n",
       "    <tr>\n",
       "      <th>83</th>\n",
       "      <td>0.020070</td>\n",
       "      <td>(york, cade)</td>\n",
       "    </tr>\n",
       "    <tr>\n",
       "      <th>84</th>\n",
       "      <td>0.021235</td>\n",
       "      <td>(chubb, nick)</td>\n",
       "    </tr>\n",
       "    <tr>\n",
       "      <th>85</th>\n",
       "      <td>0.033754</td>\n",
       "      <td>(woods, joe)</td>\n",
       "    </tr>\n",
       "    <tr>\n",
       "      <th>86</th>\n",
       "      <td>0.022234</td>\n",
       "      <td>(stefanski, kevin)</td>\n",
       "    </tr>\n",
       "  </tbody>\n",
       "</table>\n",
       "</div>"
      ],
      "text/plain": [
       "     support            itemsets\n",
       "83  0.020070        (york, cade)\n",
       "84  0.021235       (chubb, nick)\n",
       "85  0.033754        (woods, joe)\n",
       "86  0.022234  (stefanski, kevin)"
      ]
     },
     "execution_count": 5,
     "metadata": {},
     "output_type": "execute_result"
    }
   ],
   "source": [
    "browns_bags_of_words = []\n",
    "for index, row in mega_Browns_df['clean_Tweet'].iteritems(): \n",
    "    bag = row.split(' ')\n",
    "    browns_bags_of_words.append(bag)\n",
    "\n",
    "te_browns = TransactionEncoder()\n",
    "te_ary_browns = te_browns.fit(browns_bags_of_words).transform(browns_bags_of_words)\n",
    "df_browns = pd.DataFrame(te_ary_browns, columns=te_browns.columns_)\n",
    "\n",
    "browns_fp_res = apriori(df_browns, min_support=0.02, use_colnames=True)\n",
    "\n",
    "b_2_item_sets = browns_fp_res.loc[(browns_fp_res['itemsets'].str.len() >= 2)]\n",
    "\n",
    "b_2_item_sets"
   ]
  }
 ],
 "metadata": {
  "kernelspec": {
   "display_name": "base",
   "language": "python",
   "name": "python3"
  },
  "language_info": {
   "codemirror_mode": {
    "name": "ipython",
    "version": 3
   },
   "file_extension": ".py",
   "mimetype": "text/x-python",
   "name": "python",
   "nbconvert_exporter": "python",
   "pygments_lexer": "ipython3",
   "version": "3.9.7"
  },
  "vscode": {
   "interpreter": {
    "hash": "16196ea7eff63910081d4e10ae1bdb1eb18fd83cb470bb8efbb9fa6b0c724af5"
   }
  }
 },
 "nbformat": 4,
 "nbformat_minor": 5
}
