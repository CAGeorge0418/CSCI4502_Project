{
 "cells": [
  {
   "cell_type": "code",
   "execution_count": 3,
   "metadata": {},
   "outputs": [],
   "source": [
    "from detoxify import Detoxify\n",
    "import pandas as pd"
   ]
  },
  {
   "cell_type": "code",
   "execution_count": 4,
   "metadata": {},
   "outputs": [
    {
     "name": "stderr",
     "output_type": "stream",
     "text": [
      "Downloading: \"https://github.com/unitaryai/detoxify/releases/download/v0.1-alpha/toxic_original-c1212f89.ckpt\" to C:\\Users\\joshu/.cache\\torch\\hub\\checkpoints\\toxic_original-c1212f89.ckpt\n",
      "100%|██████████| 418M/418M [00:06<00:00, 65.6MB/s] \n",
      "Downloading: 100%|██████████| 570/570 [00:00<00:00, 570kB/s]\n"
     ]
    },
    {
     "ename": "TypeError",
     "evalue": "'NoneType' object is not subscriptable",
     "output_type": "error",
     "traceback": [
      "\u001b[1;31m---------------------------------------------------------------------------\u001b[0m",
      "\u001b[1;31mTypeError\u001b[0m                                 Traceback (most recent call last)",
      "Cell \u001b[1;32mIn [4], line 1\u001b[0m\n\u001b[1;32m----> 1\u001b[0m results \u001b[39m=\u001b[39m Detoxify(\u001b[39m'\u001b[39;49m\u001b[39moriginal\u001b[39;49m\u001b[39m'\u001b[39;49m)\u001b[39m.\u001b[39mpredict(\u001b[39m'\u001b[39m\u001b[39mexample text\u001b[39m\u001b[39m'\u001b[39m)\n\u001b[0;32m      3\u001b[0m results \u001b[39m=\u001b[39m Detoxify(\u001b[39m'\u001b[39m\u001b[39munbiased\u001b[39m\u001b[39m'\u001b[39m)\u001b[39m.\u001b[39mpredict([\u001b[39m'\u001b[39m\u001b[39mexample text 1\u001b[39m\u001b[39m'\u001b[39m,\u001b[39m'\u001b[39m\u001b[39mexample text 2\u001b[39m\u001b[39m'\u001b[39m])\n\u001b[0;32m      5\u001b[0m results \u001b[39m=\u001b[39m Detoxify(\u001b[39m'\u001b[39m\u001b[39mmultilingual\u001b[39m\u001b[39m'\u001b[39m)\u001b[39m.\u001b[39mpredict([\u001b[39m'\u001b[39m\u001b[39mexample text\u001b[39m\u001b[39m'\u001b[39m])\n",
      "File \u001b[1;32m~\\AppData\\Local\\Packages\\PythonSoftwareFoundation.Python.3.9_qbz5n2kfra8p0\\LocalCache\\local-packages\\Python39\\site-packages\\detoxify\\detoxify.py:103\u001b[0m, in \u001b[0;36mDetoxify.__init__\u001b[1;34m(self, model_type, checkpoint, device, huggingface_config_path)\u001b[0m\n\u001b[0;32m    101\u001b[0m \u001b[39mdef\u001b[39;00m \u001b[39m__init__\u001b[39m(\u001b[39mself\u001b[39m, model_type\u001b[39m=\u001b[39m\u001b[39m\"\u001b[39m\u001b[39moriginal\u001b[39m\u001b[39m\"\u001b[39m, checkpoint\u001b[39m=\u001b[39mPRETRAINED_MODEL, device\u001b[39m=\u001b[39m\u001b[39m\"\u001b[39m\u001b[39mcpu\u001b[39m\u001b[39m\"\u001b[39m, huggingface_config_path\u001b[39m=\u001b[39m\u001b[39mNone\u001b[39;00m):\n\u001b[0;32m    102\u001b[0m     \u001b[39msuper\u001b[39m()\u001b[39m.\u001b[39m\u001b[39m__init__\u001b[39m()\n\u001b[1;32m--> 103\u001b[0m     \u001b[39mself\u001b[39m\u001b[39m.\u001b[39mmodel, \u001b[39mself\u001b[39m\u001b[39m.\u001b[39mtokenizer, \u001b[39mself\u001b[39m\u001b[39m.\u001b[39mclass_names \u001b[39m=\u001b[39m load_checkpoint(\n\u001b[0;32m    104\u001b[0m         model_type\u001b[39m=\u001b[39;49mmodel_type,\n\u001b[0;32m    105\u001b[0m         checkpoint\u001b[39m=\u001b[39;49mcheckpoint,\n\u001b[0;32m    106\u001b[0m         device\u001b[39m=\u001b[39;49mdevice,\n\u001b[0;32m    107\u001b[0m         huggingface_config_path\u001b[39m=\u001b[39;49mhuggingface_config_path,\n\u001b[0;32m    108\u001b[0m     )\n\u001b[0;32m    109\u001b[0m     \u001b[39mself\u001b[39m\u001b[39m.\u001b[39mdevice \u001b[39m=\u001b[39m device\n\u001b[0;32m    110\u001b[0m     \u001b[39mself\u001b[39m\u001b[39m.\u001b[39mmodel\u001b[39m.\u001b[39mto(\u001b[39mself\u001b[39m\u001b[39m.\u001b[39mdevice)\n",
      "File \u001b[1;32m~\\AppData\\Local\\Packages\\PythonSoftwareFoundation.Python.3.9_qbz5n2kfra8p0\\LocalCache\\local-packages\\Python39\\site-packages\\detoxify\\detoxify.py:56\u001b[0m, in \u001b[0;36mload_checkpoint\u001b[1;34m(model_type, checkpoint, device, huggingface_config_path)\u001b[0m\n\u001b[0;32m     50\u001b[0m change_names \u001b[39m=\u001b[39m {\n\u001b[0;32m     51\u001b[0m     \u001b[39m\"\u001b[39m\u001b[39mtoxic\u001b[39m\u001b[39m\"\u001b[39m: \u001b[39m\"\u001b[39m\u001b[39mtoxicity\u001b[39m\u001b[39m\"\u001b[39m,\n\u001b[0;32m     52\u001b[0m     \u001b[39m\"\u001b[39m\u001b[39midentity_hate\u001b[39m\u001b[39m\"\u001b[39m: \u001b[39m\"\u001b[39m\u001b[39midentity_attack\u001b[39m\u001b[39m\"\u001b[39m,\n\u001b[0;32m     53\u001b[0m     \u001b[39m\"\u001b[39m\u001b[39msevere_toxic\u001b[39m\u001b[39m\"\u001b[39m: \u001b[39m\"\u001b[39m\u001b[39msevere_toxicity\u001b[39m\u001b[39m\"\u001b[39m,\n\u001b[0;32m     54\u001b[0m }\n\u001b[0;32m     55\u001b[0m class_names \u001b[39m=\u001b[39m [change_names\u001b[39m.\u001b[39mget(cl, cl) \u001b[39mfor\u001b[39;00m cl \u001b[39min\u001b[39;00m class_names]\n\u001b[1;32m---> 56\u001b[0m model, tokenizer \u001b[39m=\u001b[39m get_model_and_tokenizer(\n\u001b[0;32m     57\u001b[0m     \u001b[39m*\u001b[39m\u001b[39m*\u001b[39mloaded[\u001b[39m\"\u001b[39m\u001b[39mconfig\u001b[39m\u001b[39m\"\u001b[39m][\u001b[39m\"\u001b[39m\u001b[39march\u001b[39m\u001b[39m\"\u001b[39m][\u001b[39m\"\u001b[39m\u001b[39margs\u001b[39m\u001b[39m\"\u001b[39m],\n\u001b[0;32m     58\u001b[0m     state_dict\u001b[39m=\u001b[39mloaded[\u001b[39m\"\u001b[39m\u001b[39mstate_dict\u001b[39m\u001b[39m\"\u001b[39m],\n\u001b[0;32m     59\u001b[0m     huggingface_config_path\u001b[39m=\u001b[39mhuggingface_config_path,\n\u001b[0;32m     60\u001b[0m )\n\u001b[0;32m     62\u001b[0m \u001b[39mreturn\u001b[39;00m model, tokenizer, class_names\n",
      "File \u001b[1;32m~\\AppData\\Local\\Packages\\PythonSoftwareFoundation.Python.3.9_qbz5n2kfra8p0\\LocalCache\\local-packages\\Python39\\site-packages\\detoxify\\detoxify.py:20\u001b[0m, in \u001b[0;36mget_model_and_tokenizer\u001b[1;34m(model_type, model_name, tokenizer_name, num_classes, state_dict, huggingface_config_path)\u001b[0m\n\u001b[0;32m     16\u001b[0m \u001b[39mdef\u001b[39;00m \u001b[39mget_model_and_tokenizer\u001b[39m(\n\u001b[0;32m     17\u001b[0m     model_type, model_name, tokenizer_name, num_classes, state_dict, huggingface_config_path\u001b[39m=\u001b[39m\u001b[39mNone\u001b[39;00m\n\u001b[0;32m     18\u001b[0m ):\n\u001b[0;32m     19\u001b[0m     model_class \u001b[39m=\u001b[39m \u001b[39mgetattr\u001b[39m(transformers, model_name)\n\u001b[1;32m---> 20\u001b[0m     model \u001b[39m=\u001b[39m model_class\u001b[39m.\u001b[39;49mfrom_pretrained(\n\u001b[0;32m     21\u001b[0m         pretrained_model_name_or_path\u001b[39m=\u001b[39;49m\u001b[39mNone\u001b[39;49;00m,\n\u001b[0;32m     22\u001b[0m         config\u001b[39m=\u001b[39;49mhuggingface_config_path \u001b[39mor\u001b[39;49;00m model_type,\n\u001b[0;32m     23\u001b[0m         num_labels\u001b[39m=\u001b[39;49mnum_classes,\n\u001b[0;32m     24\u001b[0m         state_dict\u001b[39m=\u001b[39;49mstate_dict,\n\u001b[0;32m     25\u001b[0m         local_files_only\u001b[39m=\u001b[39;49mhuggingface_config_path \u001b[39mis\u001b[39;49;00m \u001b[39mnot\u001b[39;49;00m \u001b[39mNone\u001b[39;49;00m,\n\u001b[0;32m     26\u001b[0m     )\n\u001b[0;32m     27\u001b[0m     tokenizer \u001b[39m=\u001b[39m \u001b[39mgetattr\u001b[39m(transformers, tokenizer_name)\u001b[39m.\u001b[39mfrom_pretrained(\n\u001b[0;32m     28\u001b[0m         huggingface_config_path \u001b[39mor\u001b[39;00m model_type,\n\u001b[0;32m     29\u001b[0m         local_files_only\u001b[39m=\u001b[39mhuggingface_config_path \u001b[39mis\u001b[39;00m \u001b[39mnot\u001b[39;00m \u001b[39mNone\u001b[39;00m,\n\u001b[0;32m     30\u001b[0m         \u001b[39m# TODO: may be needed to let it work with Kaggle competition\u001b[39;00m\n\u001b[0;32m     31\u001b[0m         \u001b[39m# model_max_length=512,\u001b[39;00m\n\u001b[0;32m     32\u001b[0m     )\n\u001b[0;32m     34\u001b[0m     \u001b[39mreturn\u001b[39;00m model, tokenizer\n",
      "File \u001b[1;32m~\\AppData\\Local\\Packages\\PythonSoftwareFoundation.Python.3.9_qbz5n2kfra8p0\\LocalCache\\local-packages\\Python39\\site-packages\\transformers\\modeling_utils.py:2379\u001b[0m, in \u001b[0;36mPreTrainedModel.from_pretrained\u001b[1;34m(cls, pretrained_model_name_or_path, *model_args, **kwargs)\u001b[0m\n\u001b[0;32m   2369\u001b[0m     \u001b[39mif\u001b[39;00m dtype_orig \u001b[39mis\u001b[39;00m \u001b[39mnot\u001b[39;00m \u001b[39mNone\u001b[39;00m:\n\u001b[0;32m   2370\u001b[0m         torch\u001b[39m.\u001b[39mset_default_dtype(dtype_orig)\n\u001b[0;32m   2372\u001b[0m     (\n\u001b[0;32m   2373\u001b[0m         model,\n\u001b[0;32m   2374\u001b[0m         missing_keys,\n\u001b[0;32m   2375\u001b[0m         unexpected_keys,\n\u001b[0;32m   2376\u001b[0m         mismatched_keys,\n\u001b[0;32m   2377\u001b[0m         offload_index,\n\u001b[0;32m   2378\u001b[0m         error_msgs,\n\u001b[1;32m-> 2379\u001b[0m     ) \u001b[39m=\u001b[39m \u001b[39mcls\u001b[39;49m\u001b[39m.\u001b[39;49m_load_pretrained_model(\n\u001b[0;32m   2380\u001b[0m         model,\n\u001b[0;32m   2381\u001b[0m         state_dict,\n\u001b[0;32m   2382\u001b[0m         loaded_state_dict_keys,  \u001b[39m# XXX: rename?\u001b[39;49;00m\n\u001b[0;32m   2383\u001b[0m         resolved_archive_file,\n\u001b[0;32m   2384\u001b[0m         pretrained_model_name_or_path,\n\u001b[0;32m   2385\u001b[0m         ignore_mismatched_sizes\u001b[39m=\u001b[39;49mignore_mismatched_sizes,\n\u001b[0;32m   2386\u001b[0m         sharded_metadata\u001b[39m=\u001b[39;49msharded_metadata,\n\u001b[0;32m   2387\u001b[0m         _fast_init\u001b[39m=\u001b[39;49m_fast_init,\n\u001b[0;32m   2388\u001b[0m         low_cpu_mem_usage\u001b[39m=\u001b[39;49mlow_cpu_mem_usage,\n\u001b[0;32m   2389\u001b[0m         device_map\u001b[39m=\u001b[39;49mdevice_map,\n\u001b[0;32m   2390\u001b[0m         offload_folder\u001b[39m=\u001b[39;49moffload_folder,\n\u001b[0;32m   2391\u001b[0m         offload_state_dict\u001b[39m=\u001b[39;49moffload_state_dict,\n\u001b[0;32m   2392\u001b[0m         dtype\u001b[39m=\u001b[39;49mtorch_dtype,\n\u001b[0;32m   2393\u001b[0m         load_in_8bit\u001b[39m=\u001b[39;49mload_in_8bit,\n\u001b[0;32m   2394\u001b[0m     )\n\u001b[0;32m   2396\u001b[0m model\u001b[39m.\u001b[39mis_loaded_in_8bit \u001b[39m=\u001b[39m load_in_8bit\n\u001b[0;32m   2398\u001b[0m \u001b[39m# make sure token embedding weights are still tied if needed\u001b[39;00m\n",
      "File \u001b[1;32m~\\AppData\\Local\\Packages\\PythonSoftwareFoundation.Python.3.9_qbz5n2kfra8p0\\LocalCache\\local-packages\\Python39\\site-packages\\transformers\\modeling_utils.py:2572\u001b[0m, in \u001b[0;36mPreTrainedModel._load_pretrained_model\u001b[1;34m(cls, model, state_dict, loaded_keys, resolved_archive_file, pretrained_model_name_or_path, ignore_mismatched_sizes, sharded_metadata, _fast_init, low_cpu_mem_usage, device_map, offload_folder, offload_state_dict, dtype, load_in_8bit)\u001b[0m\n\u001b[0;32m   2569\u001b[0m                 \u001b[39mdel\u001b[39;00m state_dict[checkpoint_key]\n\u001b[0;32m   2570\u001b[0m     \u001b[39mreturn\u001b[39;00m mismatched_keys\n\u001b[1;32m-> 2572\u001b[0m folder \u001b[39m=\u001b[39m os\u001b[39m.\u001b[39mpath\u001b[39m.\u001b[39msep\u001b[39m.\u001b[39mjoin(resolved_archive_file[\u001b[39m0\u001b[39;49m]\u001b[39m.\u001b[39msplit(os\u001b[39m.\u001b[39mpath\u001b[39m.\u001b[39msep)[:\u001b[39m-\u001b[39m\u001b[39m1\u001b[39m])\n\u001b[0;32m   2573\u001b[0m \u001b[39mif\u001b[39;00m device_map \u001b[39mis\u001b[39;00m \u001b[39mnot\u001b[39;00m \u001b[39mNone\u001b[39;00m \u001b[39mand\u001b[39;00m is_safetensors:\n\u001b[0;32m   2574\u001b[0m     param_device_map \u001b[39m=\u001b[39m expand_device_map(device_map, original_loaded_keys)\n",
      "\u001b[1;31mTypeError\u001b[0m: 'NoneType' object is not subscriptable"
     ]
    }
   ],
   "source": [
    "results = Detoxify('original').predict('example text')\n",
    "\n",
    "results = Detoxify('unbiased').predict(['example text 1','example text 2'])\n",
    "\n",
    "results = Detoxify('multilingual').predict(['example text'])\n",
    "\n",
    "print(results)\n",
    "\n",
    "# to specify the device the model will be allocated on (defaults to cpu), accepts any torch.device input"
   ]
  }
 ],
 "metadata": {
  "kernelspec": {
   "display_name": "Python 3.9.13 64-bit (microsoft store)",
   "language": "python",
   "name": "python3"
  },
  "language_info": {
   "codemirror_mode": {
    "name": "ipython",
    "version": 3
   },
   "file_extension": ".py",
   "mimetype": "text/x-python",
   "name": "python",
   "nbconvert_exporter": "python",
   "pygments_lexer": "ipython3",
   "version": "3.9.13 (tags/v3.9.13:6de2ca5, May 17 2022, 16:36:42) [MSC v.1929 64 bit (AMD64)]"
  },
  "orig_nbformat": 4,
  "vscode": {
   "interpreter": {
    "hash": "6aa40184943719ff8ac736bd72f983c6c698908247fa2e3b3e297452c913fb30"
   }
  }
 },
 "nbformat": 4,
 "nbformat_minor": 2
}
