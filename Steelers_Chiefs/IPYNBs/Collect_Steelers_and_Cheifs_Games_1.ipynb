{
 "cells": [
  {
   "cell_type": "code",
   "execution_count": 1,
   "id": "367905b4",
   "metadata": {},
   "outputs": [],
   "source": [
    "import sys\n",
    "sys.path.append('../../')\n",
    "\n",
    "import pandas as pd\n",
    "import numpy as np\n",
    "from Collect_and_Clean_Tweets import create_full_data_frame, make_csv_from_df\n",
    "from tqdm import tqdm"
   ]
  },
  {
   "cell_type": "code",
   "execution_count": 2,
   "id": "0c397bd3",
   "metadata": {},
   "outputs": [],
   "source": [
    "list_of_queries_steelers =[\n",
    "    'Steelers  ((#Steelers OR #HereWeGo) AND -#Seahawks) until:2022-08-15 since:2022-08-13',\n",
    "    'Steelers  ((#Steelers OR #HereWeGo) AND -#DUUUVAL) until:2022-08-23 since:2022-08-20',\n",
    "    'Steelers  ((#Steelers OR #HereWeGo) AND -#OnePride) until:2022-08-31 since:2022-08-28',\n",
    "    'Steelers  ((#Steelers OR #HereWeGo) AND -#RuleTheJungle) until:2022-09-14 since:2022-09-11',\n",
    "    'Steelers  ((#Steelers OR #HereWeGo) AND -#ForeverNE) until:2022-09-21 since:2022-09-18',\n",
    "    'Steelers  ((#Steelers OR #HereWeGo) AND -#Browns) until:2022-09-25 since:2022-09-22',\n",
    "    'Steelers  ((#Steelers OR #HereWeGo) AND -#TakeFlight) until:2022-10-05 since:2022-10-02',\n",
    "    'Steelers  ((#Steelers OR #HereWeGo) AND -#BillsMafia) until:2022-10-12 since:2022-10-09',\n",
    "    'Steelers  ((#Steelers OR #HereWeGo) AND -#GoBucs) until:2022-10-19 since:2022-10-16',\n",
    "    'Steelers  ((#Steelers OR #HereWeGo) AND -#FinsUp) until:2022-10-26 since:2022-10-23',\n",
    "    'Steelers  ((#Steelers OR #HereWeGo) AND -#FlyEaglesFly) until:2022-11-02 since:2022-10-30',\n",
    "    'Steelers  ((#Steelers OR #HereWeGo) AND -#Saints) until:2022-11-16 since:2022-11-13',\n",
    "    'Steelers  ((#Steelers OR #HereWeGo) AND -#RuleTheJungle) until:2022-11-23 since:2022-11-20',\n",
    "    'Steelers  ((#Steelers OR #HereWeGo) AND -#ForTheShoe) until:2022-12-01 since:2022-11-28',\n",
    "]\n",
    "list_csv_names_steelers =[\n",
    "    'Steelers_Pre_Game1_Seahawks.csv',\n",
    "    'Steelers_Pre_Game2_Jaguars.csv',\n",
    "    'Steelers_Pre_Game3_Lions.csv',\n",
    "    'Steelers_Game1_Bengals.csv',\n",
    "    'Steelers_Game2_Patriots.csv',\n",
    "    'Steelers_Game3_Browns.csv',\n",
    "    'Steelers_Game4_Jets.csv',\n",
    "    'Steelers_Game5_Bills.csv',\n",
    "    'Steelers_Game6_Bucaneers.csv',\n",
    "    'Steelers_Game7_Dolphins.csv',\n",
    "    'Steelers_Game8_Eagles.csv',\n",
    "    'Steelers_Game9_Saints.csv',\n",
    "    'Steelers_Game10_Bengals.csv',\n",
    "    'Steelers_Game11_Colts.csv'\n",
    "]\n",
    "assert(len(list_csv_names_steelers)==len(list_of_queries_steelers))"
   ]
  },
  {
   "cell_type": "code",
   "execution_count": 3,
   "id": "200ea2a1",
   "metadata": {},
   "outputs": [
    {
     "name": "stderr",
     "output_type": "stream",
     "text": [
      "  7%|▋         | 1/14 [02:23<31:04, 143.46s/it]"
     ]
    },
    {
     "name": "stdout",
     "output_type": "stream",
     "text": [
      "Steelers_Pre_Game1_Seahawks.csv made\n"
     ]
    },
    {
     "name": "stderr",
     "output_type": "stream",
     "text": [
      " 14%|█▍        | 2/14 [04:30<26:43, 133.65s/it]"
     ]
    },
    {
     "name": "stdout",
     "output_type": "stream",
     "text": [
      "Steelers_Pre_Game2_Jaguars.csv made\n"
     ]
    },
    {
     "name": "stderr",
     "output_type": "stream",
     "text": [
      " 21%|██▏       | 3/14 [07:11<26:49, 146.34s/it]"
     ]
    },
    {
     "name": "stdout",
     "output_type": "stream",
     "text": [
      "Steelers_Pre_Game3_Lions.csv made\n"
     ]
    },
    {
     "name": "stderr",
     "output_type": "stream",
     "text": [
      " 29%|██▊       | 4/14 [11:40<32:26, 194.68s/it]"
     ]
    },
    {
     "name": "stdout",
     "output_type": "stream",
     "text": [
      "Steelers_Game1_Bengals.csv made\n"
     ]
    },
    {
     "name": "stderr",
     "output_type": "stream",
     "text": [
      " 36%|███▌      | 5/14 [16:03<32:53, 219.24s/it]"
     ]
    },
    {
     "name": "stdout",
     "output_type": "stream",
     "text": [
      "Steelers_Game2_Patriots.csv made\n"
     ]
    },
    {
     "name": "stderr",
     "output_type": "stream",
     "text": [
      " 43%|████▎     | 6/14 [20:24<31:07, 233.39s/it]"
     ]
    },
    {
     "name": "stdout",
     "output_type": "stream",
     "text": [
      "Steelers_Game3_Browns.csv made\n"
     ]
    },
    {
     "name": "stderr",
     "output_type": "stream",
     "text": [
      " 50%|█████     | 7/14 [24:51<28:32, 244.61s/it]"
     ]
    },
    {
     "name": "stdout",
     "output_type": "stream",
     "text": [
      "Steelers_Game4_Jets.csv made\n"
     ]
    },
    {
     "name": "stderr",
     "output_type": "stream",
     "text": [
      " 57%|█████▋    | 8/14 [29:12<24:58, 249.75s/it]"
     ]
    },
    {
     "name": "stdout",
     "output_type": "stream",
     "text": [
      "Steelers_Game5_Bills.csv made\n"
     ]
    },
    {
     "name": "stderr",
     "output_type": "stream",
     "text": [
      " 64%|██████▍   | 9/14 [33:31<21:02, 252.49s/it]"
     ]
    },
    {
     "name": "stdout",
     "output_type": "stream",
     "text": [
      "Steelers_Game6_Bucaneers.csv made\n"
     ]
    },
    {
     "name": "stderr",
     "output_type": "stream",
     "text": [
      " 71%|███████▏  | 10/14 [37:50<16:57, 254.48s/it]"
     ]
    },
    {
     "name": "stdout",
     "output_type": "stream",
     "text": [
      "Steelers_Game7_Dolphins.csv made\n"
     ]
    },
    {
     "name": "stderr",
     "output_type": "stream",
     "text": [
      " 79%|███████▊  | 11/14 [42:08<12:47, 255.71s/it]"
     ]
    },
    {
     "name": "stdout",
     "output_type": "stream",
     "text": [
      "Steelers_Game8_Eagles.csv made\n"
     ]
    },
    {
     "name": "stderr",
     "output_type": "stream",
     "text": [
      " 86%|████████▌ | 12/14 [44:50<07:34, 227.19s/it]"
     ]
    },
    {
     "name": "stdout",
     "output_type": "stream",
     "text": [
      "Steelers_Game9_Saints.csv made\n"
     ]
    },
    {
     "name": "stderr",
     "output_type": "stream",
     "text": [
      " 93%|█████████▎| 13/14 [48:12<03:39, 219.57s/it]"
     ]
    },
    {
     "name": "stdout",
     "output_type": "stream",
     "text": [
      "Steelers_Game10_Bengals.csv made\n"
     ]
    },
    {
     "name": "stderr",
     "output_type": "stream",
     "text": [
      "100%|██████████| 14/14 [52:02<00:00, 223.06s/it]"
     ]
    },
    {
     "name": "stdout",
     "output_type": "stream",
     "text": [
      "Steelers_Game11_Colts.csv made\n"
     ]
    },
    {
     "name": "stderr",
     "output_type": "stream",
     "text": [
      "\n"
     ]
    }
   ],
   "source": [
    "limit = 10000\n",
    "queries_less_than_500 = []\n",
    "for i, ele in enumerate(tqdm(list_of_queries_steelers)):\n",
    "    df = create_full_data_frame(list_of_queries_steelers[i],limit)\n",
    "    if(len(df)<=500):\n",
    "        #print(list_of_quries_broncos[i], len(df))\n",
    "        queries_less_than_500.append(i)\n",
    "    else:\n",
    "        make_csv_from_df(df,list_csv_names_steelers[i])\n",
    "        print(f\"{list_csv_names_steelers[i]} made\")"
   ]
  },
  {
   "cell_type": "code",
   "execution_count": 4,
   "id": "a5a9295e",
   "metadata": {},
   "outputs": [],
   "source": [
    "list_of_queries_Chiefs =[\n",
    "    'Chiefs  ((#Chiefs OR #ChiefsKingdom) AND -#DaBears) until:2022-08-16 since:2022-08-13',\n",
    "    'Chiefs  ((#Chiefs OR #ChiefsKingdom) AND -#HTTC) until:2022-08-23 since:2022-08-20',\n",
    "    'Chiefs  ((#Chiefs OR #ChiefsKingdom) AND -#GoPackGo) until:2022-08-28 since:2022-08-25',\n",
    "    'Chiefs  ((#Chiefs OR #ChiefsKingdom) AND -#BirdCityFootball) until:2022-09-14 since:2022-09-11',\n",
    "    'Chiefs  ((#Chiefs OR #ChiefsKingdom) AND -#BoltUp) until:2022-09-18 since:2022-09-15',\n",
    "    'Chiefs  ((#Chiefs OR #ChiefsKingdom) AND -#ForTheShoe) until:2022-09-28 since:2022-09-25',\n",
    "    'Chiefs  ((#Chiefs OR #ChiefsKingdom) AND -#GoBucs) until:2022-10-05 since:2022-10-02',\n",
    "    'Chiefs  ((#Chiefs OR #ChiefsKingdom) AND -#RaiderNation) until:2022-10-13 since:2022-10-10',\n",
    "    'Chiefs  ((#Chiefs OR #ChiefsKingdom) AND -#BillsMafia) until:2022-10-19 since:2022-10-16',\n",
    "    'Chiefs  ((#Chiefs OR #ChiefsKingdom) AND -#FTTB) until:2022-10-26 since:2022-10-23',\n",
    "    'Chiefs  ((#Chiefs OR #ChiefsKingdom) AND -#Titans) until:2022-11-09 since:2022-11-06',\n",
    "    'Chiefs  ((#Chiefs OR #ChiefsKingdom) AND -#DUUUVAL) until:2022-11-16 since:2022-11-13',\n",
    "    'Chiefs  ((#Chiefs OR #ChiefsKingdom) AND -#BoltUp) until:2022-11-23 since:2022-11-20',\n",
    "    'Chiefs  ((#Chiefs OR #ChiefsKingdom) AND -#RamsHouse) until:2022-11-30 since:2022-11-27'\n",
    "]\n",
    "list_csv_names_Chiefs =[\n",
    "    'Chiefs_Pre_Game1_Bears.csv',\n",
    "    'Chiefs_Pre_Game2_Commanders.csv',\n",
    "    'Chiefs_Pre_Game3_Packers.csv',\n",
    "    'Chiefs_Game1_Cardinals.csv',\n",
    "    'Chiefs_Game2_Chargers.csv',\n",
    "    'Chiefs_Game3_Colts.csv',\n",
    "    'Chiefs_Game4_Bucs.csv',\n",
    "    'Chiefs_Game5_Raiders.csv',\n",
    "    'Chiefs_Game6_Bills.csv',\n",
    "    'Chiefs_Game7_Niners.csv',\n",
    "    'Chiefs_Game8_Titans.csv',\n",
    "    'Chiefs_Game9_Jags.csv',\n",
    "    'Chiefs_Game10_Chargers.csv',\n",
    "    'Chiefs_Game11_Rams.csv',\n",
    "]\n",
    "assert(len(list_csv_names_Chiefs)==len(list_of_queries_Chiefs))"
   ]
  },
  {
   "cell_type": "code",
   "execution_count": 5,
   "id": "444ac557",
   "metadata": {},
   "outputs": [
    {
     "name": "stderr",
     "output_type": "stream",
     "text": [
      "  7%|▋         | 1/14 [00:57<12:22, 57.09s/it]"
     ]
    },
    {
     "name": "stdout",
     "output_type": "stream",
     "text": [
      "Chiefs_Pre_Game1_Bears.csv made\n"
     ]
    },
    {
     "name": "stderr",
     "output_type": "stream",
     "text": [
      " 14%|█▍        | 2/14 [01:44<10:16, 51.40s/it]"
     ]
    },
    {
     "name": "stdout",
     "output_type": "stream",
     "text": [
      "Chiefs_Pre_Game2_Commanders.csv made\n"
     ]
    },
    {
     "name": "stderr",
     "output_type": "stream",
     "text": [
      " 21%|██▏       | 3/14 [02:33<09:11, 50.13s/it]"
     ]
    },
    {
     "name": "stdout",
     "output_type": "stream",
     "text": [
      "Chiefs_Pre_Game3_Packers.csv made\n"
     ]
    },
    {
     "name": "stderr",
     "output_type": "stream",
     "text": [
      " 29%|██▊       | 4/14 [04:47<13:53, 83.32s/it]"
     ]
    },
    {
     "name": "stdout",
     "output_type": "stream",
     "text": [
      "Chiefs_Game1_Cardinals.csv made\n"
     ]
    },
    {
     "name": "stderr",
     "output_type": "stream",
     "text": [
      " 36%|███▌      | 5/14 [08:11<19:00, 126.76s/it]"
     ]
    },
    {
     "name": "stdout",
     "output_type": "stream",
     "text": [
      "Chiefs_Game2_Chargers.csv made\n"
     ]
    },
    {
     "name": "stderr",
     "output_type": "stream",
     "text": [
      " 43%|████▎     | 6/14 [10:19<16:58, 127.26s/it]"
     ]
    },
    {
     "name": "stdout",
     "output_type": "stream",
     "text": [
      "Chiefs_Game3_Colts.csv made\n"
     ]
    },
    {
     "name": "stderr",
     "output_type": "stream",
     "text": [
      " 50%|█████     | 7/14 [12:51<15:48, 135.52s/it]"
     ]
    },
    {
     "name": "stdout",
     "output_type": "stream",
     "text": [
      "Chiefs_Game4_Bucs.csv made\n"
     ]
    },
    {
     "name": "stderr",
     "output_type": "stream",
     "text": [
      " 57%|█████▋    | 8/14 [17:25<17:56, 179.38s/it]"
     ]
    },
    {
     "name": "stdout",
     "output_type": "stream",
     "text": [
      "Chiefs_Game5_Raiders.csv made\n"
     ]
    },
    {
     "name": "stderr",
     "output_type": "stream",
     "text": [
      " 64%|██████▍   | 9/14 [19:53<14:07, 169.58s/it]"
     ]
    },
    {
     "name": "stdout",
     "output_type": "stream",
     "text": [
      "Chiefs_Game6_Bills.csv made\n"
     ]
    },
    {
     "name": "stderr",
     "output_type": "stream",
     "text": [
      " 71%|███████▏  | 10/14 [22:06<10:32, 158.24s/it]"
     ]
    },
    {
     "name": "stdout",
     "output_type": "stream",
     "text": [
      "Chiefs_Game7_Niners.csv made\n"
     ]
    },
    {
     "name": "stderr",
     "output_type": "stream",
     "text": [
      " 79%|███████▊  | 11/14 [24:32<07:44, 154.70s/it]"
     ]
    },
    {
     "name": "stdout",
     "output_type": "stream",
     "text": [
      "Chiefs_Game8_Titans.csv made\n"
     ]
    },
    {
     "name": "stderr",
     "output_type": "stream",
     "text": [
      " 86%|████████▌ | 12/14 [26:16<04:38, 139.14s/it]"
     ]
    },
    {
     "name": "stdout",
     "output_type": "stream",
     "text": [
      "Chiefs_Game9_Jags.csv made\n"
     ]
    },
    {
     "name": "stderr",
     "output_type": "stream",
     "text": [
      " 93%|█████████▎| 13/14 [28:54<02:25, 145.05s/it]"
     ]
    },
    {
     "name": "stdout",
     "output_type": "stream",
     "text": [
      "Chiefs_Game10_Chargers.csv made\n"
     ]
    },
    {
     "name": "stderr",
     "output_type": "stream",
     "text": [
      "100%|██████████| 14/14 [30:35<00:00, 131.07s/it]"
     ]
    },
    {
     "name": "stdout",
     "output_type": "stream",
     "text": [
      "Chiefs_Game11_Rams.csv made\n"
     ]
    },
    {
     "name": "stderr",
     "output_type": "stream",
     "text": [
      "\n"
     ]
    }
   ],
   "source": [
    "limit = 10000\n",
    "queries_less_than_500 = []\n",
    "for i, ele in enumerate(tqdm(list_of_queries_Chiefs)):\n",
    "    df = create_full_data_frame(list_of_queries_Chiefs[i],limit)\n",
    "    if(len(df)<=500):\n",
    "        #print(list_of_queries_Chiefs[i], len(df))\n",
    "        queries_less_than_500.append(i)\n",
    "    else:\n",
    "        make_csv_from_df(df,list_csv_names_Chiefs[i])\n",
    "        print(f\"{list_csv_names_Chiefs[i]} made\")"
   ]
  },
  {
   "cell_type": "code",
   "execution_count": null,
   "id": "96d4ce27",
   "metadata": {},
   "outputs": [],
   "source": []
  }
 ],
 "metadata": {
  "kernelspec": {
   "display_name": "base",
   "language": "python",
   "name": "python3"
  },
  "language_info": {
   "codemirror_mode": {
    "name": "ipython",
    "version": 3
   },
   "file_extension": ".py",
   "mimetype": "text/x-python",
   "name": "python",
   "nbconvert_exporter": "python",
   "pygments_lexer": "ipython3",
   "version": "3.9.7 (default, Sep 16 2021, 16:59:28) [MSC v.1916 64 bit (AMD64)]"
  },
  "vscode": {
   "interpreter": {
    "hash": "16196ea7eff63910081d4e10ae1bdb1eb18fd83cb470bb8efbb9fa6b0c724af5"
   }
  }
 },
 "nbformat": 4,
 "nbformat_minor": 5
}
