{
 "cells": [
  {
   "cell_type": "code",
   "execution_count": 25,
   "metadata": {},
   "outputs": [],
   "source": [
    "import pandas as pd\n",
    "import numpy as np\n",
    "import seaborn as sns\n",
    "import matplotlib.pyplot as plt\n",
    "import os"
   ]
  },
  {
   "cell_type": "code",
   "execution_count": null,
   "metadata": {},
   "outputs": [],
   "source": [
    "win_perc = [df.loc[df['Positive_Sentiment']==True].shape[0]/df.shape[0] for df in jags_dfs]"
   ]
  },
  {
   "cell_type": "code",
   "execution_count": 24,
   "metadata": {},
   "outputs": [],
   "source": [
    "browns_csvs = os.listdir('Browns_CSVs')\n",
    "browns_dfs = [pd.read_csv('Browns_CSVs/'+csv) for csv in browns_csvs]\n",
    "jags_csvs = os.listdir('Jaguars_CSVs')\n",
    "jags_dfs = [pd.read_csv('Jaguars_CSVs/'+csv) for csv in jags_csvs]\n",
    "bills_csvs = os.listdir('Bills_CSVs')\n",
    "bills_dfs = [pd.read_csv('Bills_CSVs/'+csv) for csv in bills_csvs]\n",
    "dolphs_csvs = os.listdir('Dolphins_CSVs')\n",
    "dolphs_dfs = [pd.read_csv('Dolphins_CSVs/'+csv) for csv in dolphs_csvs]\n",
    "steelers_csvs = os.listdir('./Steelers_Chiefs/CSVs/Steelers_CSVs')\n",
    "steelers_dfs = [pd.read_csv('./Steelers_Chiefs/CSVs/Steelers_CSVs/'+csv) for csv in steelers_csvs]\n",
    "chiefs_csvs = os.listdir('./Steelers_Chiefs/CSVs/Chiefs_CSVs')\n",
    "chiefs_dfs = [pd.read_csv('./Steelers_Chiefs/CSVs/Chiefs_CSVs/'+csv) for csv in chiefs_csvs]\n",
    "niners_csvs = os.listdir('Niners_CSVs')\n",
    "niners_dfs = [pd.read_csv('Niners_CSVs/'+csv) for csv in niners_csvs]\n",
    "bears_csvs = os.listdir('Bears_CSVs')\n",
    "bears_dfs = [pd.read_csv('Bears_CSVs/'+csv) for csv in bears_csvs]\n",
    "broncos_csvs = os.listdir('Broncos CSV 2')\n",
    "broncos_dfs = [pd.read_csv('Broncos CSV 2/'+csv) for csv in broncos_csvs]\n",
    "eagles_csvs = os.listdir('Eagles CSV 2')\n",
    "eagles_dfs = [pd.read_csv('Eagles CSV 2/'+csv) for csv in eagles_csvs]"
   ]
  },
  {
   "cell_type": "code",
   "execution_count": 6,
   "metadata": {},
   "outputs": [
    {
     "name": "stdout",
     "output_type": "stream",
     "text": [
      "[225.64758554525105, 347.596198732911, 619.3450418805728, 1031.7151232971203, 25.66039666299386, 61.025426430734896, 87.08341323106424, 19.86731081280425, 761.650621613006, 36.81720179928649, 21.23635112402508, 388.5731284085275, 41.12922922922923, 751.8334843268708]\n"
     ]
    }
   ],
   "source": [
    "steelers_dfs_reordered = [steelers_dfs[11],steelers_dfs[12],steelers_dfs[13],steelers_dfs[2],steelers_dfs[3],steelers_dfs[4], steelers_dfs[5], steelers_dfs[6], steelers_dfs[7], steelers_dfs[8], steelers_dfs[9], steelers_dfs[10],steelers_dfs[0], steelers_dfs[1]]\n",
    "steelers_wl = ['win', 'win', 'win', 'win', 'loss', 'loss', 'loss', 'loss', 'win', 'loss', 'loss', 'win', 'loss', 'win']\n",
    "#chiefs_wl = ['loss', 'win', 'win', 'win', 'win', 'loss', 'win', 'win', 'loss', 'win', 'win', 'win', 'win', 'loss'] \n",
    "expected = 0\n",
    "chi_squared = []\n",
    "for index, df in enumerate(steelers_dfs_reordered):\n",
    "    chi_squared_sum = df['Positive_Sentiment'].sum()\n",
    "    if steelers_wl[index] == 'win':\n",
    "        expected = df.shape[0]\n",
    "    else:\n",
    "        expected = 0.5 * df.shape[0]\n",
    "    chi_squared.append(((chi_squared_sum - expected)**2) / expected) \n",
    "print(chi_squared)\n"
   ]
  },
  {
   "cell_type": "markdown",
   "metadata": {},
   "source": [
    "**Chi-Squared Correlation Analysis - Avg. Positive Tweet Percentage (PTP) for Wins and Losses**"
   ]
  },
  {
   "cell_type": "code",
   "execution_count": 27,
   "metadata": {},
   "outputs": [
    {
     "name": "stdout",
     "output_type": "stream",
     "text": [
      "522.3159265301141\n"
     ]
    },
    {
     "data": {
      "text/plain": [
       "[6.259674901774253e-06,\n",
       " 83.0333471540209,\n",
       " 0.45225490423938053,\n",
       " 10.135585952413749,\n",
       " 181.65157484218963,\n",
       " 1.3861188457881692,\n",
       " 29.354721537281797,\n",
       " 38.556392997073445,\n",
       " 77.4685396032426,\n",
       " 79.68196448276109,\n",
       " 5.624611450949503,\n",
       " 0.18532662119377252,\n",
       " 9.124922008940024,\n",
       " 5.660559870345124]"
      ]
     },
     "execution_count": 27,
     "metadata": {},
     "output_type": "execute_result"
    }
   ],
   "source": [
    "steelers_dfs_reordered = [steelers_dfs[11],steelers_dfs[12],steelers_dfs[13],steelers_dfs[2],steelers_dfs[3],steelers_dfs[4], steelers_dfs[5], steelers_dfs[6], steelers_dfs[7], steelers_dfs[8], steelers_dfs[9], steelers_dfs[10],steelers_dfs[0], steelers_dfs[1]]\n",
    "steelers_wl = np.array(['win', 'win', 'win', 'win', 'loss', 'loss', 'loss', 'loss', 'win', 'loss', 'loss', 'win', 'loss', 'win'])\n",
    "chiefs_dfs_reordered = [chiefs_dfs[11],chiefs_dfs[12],chiefs_dfs[13],chiefs_dfs[2],chiefs_dfs[3],chiefs_dfs[4], chiefs_dfs[5], chiefs_dfs[6], chiefs_dfs[7], chiefs_dfs[8], chiefs_dfs[9], chiefs_dfs[10],chiefs_dfs[0], chiefs_dfs[1]]\n",
    "chiefs_wl = np.array(['loss', 'win', 'win', 'win', 'win', 'loss', 'win', 'win', 'loss', 'win', 'win', 'win', 'win', 'loss'])\n",
    "browns_dfs_reordered = [browns_dfs[11],browns_dfs[12],browns_dfs[13],browns_dfs[2],browns_dfs[3],browns_dfs[4], browns_dfs[5], browns_dfs[6], browns_dfs[7], browns_dfs[8], browns_dfs[9], browns_dfs[10],browns_dfs[0], browns_dfs[1]]\n",
    "browns_wl = np.array(['win', 'loss', 'loss', 'win', 'loss', 'win', 'loss', 'loss', 'loss', 'loss', 'win', 'loss', 'loss', 'win'])\n",
    "\n",
    "\n",
    "team_win_p = []\n",
    "team_loss_p = []\n",
    "\n",
    "win_perc_steel = [df.loc[df['Positive_Sentiment']==True].shape[0]/df.shape[0] for df in steelers_dfs_reordered]\n",
    "win_perc_chief = [df.loc[df['Positive_Sentiment']==True].shape[0]/df.shape[0] for df in chiefs_dfs_reordered]\n",
    "win_perc_brown = [df.loc[df['Positive_Sentiment']==True].shape[0]/df.shape[0] for df in browns_dfs_reordered]\n",
    "\n",
    "steel_win = 0.0\n",
    "steel_loss = 0.0\n",
    "\n",
    "#For each Win and loss, adds the positive tweet percentage to corresponding variable\n",
    "for wl, perc in zip(steelers_wl, win_perc_steel):\n",
    "    if wl == 'win':\n",
    "        steel_win += perc\n",
    "    else:\n",
    "        steel_loss += perc\n",
    "#Stores Average Win/Loss Positive Tweet Percentage (PTP) for Steelers Season\n",
    "team_win_p.append(steel_win / np.count_nonzero(steelers_wl == 'win'))\n",
    "team_loss_p.append(steel_loss / np.count_nonzero(steelers_wl == 'loss'))\n",
    "\n",
    "chief_win = 0.0\n",
    "chief_loss = 0.0\n",
    "for wl, perc in zip(chiefs_wl, win_perc_chief):\n",
    "    if wl == 'win':\n",
    "        chief_win += perc\n",
    "    else:\n",
    "        chief_loss += perc\n",
    "team_win_p.append(chief_win / np.count_nonzero(chiefs_wl == 'win'))\n",
    "team_loss_p.append(chief_loss / np.count_nonzero(chiefs_wl == 'loss'))\n",
    "\n",
    "brown_win = 0.0\n",
    "brown_loss = 0.0\n",
    "for wl, perc in zip(browns_wl, win_perc_brown):\n",
    "    if wl == 'win':\n",
    "        brown_win += perc\n",
    "    else:\n",
    "        brown_loss += perc\n",
    "team_win_p.append(brown_win / np.count_nonzero(browns_wl == 'win'))\n",
    "team_loss_p.append(brown_loss / np.count_nonzero(browns_wl == 'loss'))\n",
    "\n",
    "# Computes Avg. of Teams' W/L PTP\n",
    "win_const = sum(team_win_p)/len(team_win_p)\n",
    "loss_const = sum(team_loss_p)/len(team_loss_p)\n",
    "\n",
    "expected = 0\n",
    "chi_squared = []\n",
    "for index, df in enumerate(browns_dfs_reordered):\n",
    "    chi_squared_sum = df['Positive_Sentiment'].sum()\n",
    "    if browns_wl[index] == 'win':\n",
    "        expected = win_const * df.shape[0]\n",
    "        #print(((chi_squared_sum - expected)**2) / expected,\" win \", df.shape[0])\n",
    "    else:\n",
    "        expected = loss_const * df.shape[0]\n",
    "        #print(((chi_squared_sum - expected)**2) / expected,\" loss \", df.shape[0])\n",
    "    chi_squared.append(((chi_squared_sum - expected)**2) / expected) \n",
    "\n",
    "chi2 = sum(chi_squared)\n",
    "print(chi2)\n",
    "chi_squared"
   ]
  },
  {
   "cell_type": "code",
   "execution_count": 18,
   "metadata": {},
   "outputs": [
    {
     "name": "stdout",
     "output_type": "stream",
     "text": [
      "0.6574543029773849 0.5951452388996314\n"
     ]
    }
   ],
   "source": [
    "print(win_const, loss_const)"
   ]
  }
 ],
 "metadata": {
  "kernelspec": {
   "display_name": "Python 3 (ipykernel)",
   "language": "python",
   "name": "python3"
  },
  "language_info": {
   "codemirror_mode": {
    "name": "ipython",
    "version": 3
   },
   "file_extension": ".py",
   "mimetype": "text/x-python",
   "name": "python",
   "nbconvert_exporter": "python",
   "pygments_lexer": "ipython3",
   "version": "3.9.7"
  },
  "vscode": {
   "interpreter": {
    "hash": "c261aea317cc0286b3b3261fbba9abdec21eaa57589985bb7a274bf54d6cc0a7"
   }
  }
 },
 "nbformat": 4,
 "nbformat_minor": 2
}
