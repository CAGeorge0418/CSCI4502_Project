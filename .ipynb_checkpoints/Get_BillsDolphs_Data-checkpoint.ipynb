{
 "cells": [
  {
   "cell_type": "code",
   "execution_count": 1,
   "id": "6a18916c",
   "metadata": {},
   "outputs": [],
   "source": [
    "import pandas as pd\n",
    "import numpy as np\n",
    "from Collect_and_Clean_Tweets import create_full_data_frame, make_csv_from_df\n",
    "from tqdm import tqdm"
   ]
  },
  {
   "cell_type": "code",
   "execution_count": 2,
   "id": "2bb89ff8",
   "metadata": {},
   "outputs": [],
   "source": [
    "#BILLS GAME QUERY LIST AND CSV LIST\n",
    "\n",
    "list_of_queries_bills =[\n",
    "    'Bills  ((#Bills OR #BillsMafia) AND -#ForTheShoe) until:2022-08-15 since:2022-08-12',\n",
    "    'Bills  ((#Bills OR #BillsMafia) AND -#BroncosCountry) until:2022-08-22 since:2022-08-19',\n",
    "    'Bills  ((#Bills OR #BillsMafia) AND -#KeepPounding) until:2022-08-28 since:2022-08-25',\n",
    "    'Bills  ((#Bills OR #BillsMafia) AND -#RamsHouse) until:2022-09-10 since:2022-09-07',\n",
    "    'Bills  ((#Bills OR #BillsMafia) AND -#Titans) until:2022-09-21 since:2022-09-18',\n",
    "    'Bills  ((#Bills OR #BillsMafia) AND -#FinsUp) until:2022-09-27 since:2022-09-24',\n",
    "    'Bills  ((#Bills OR #BillsMafia) AND -#RavensFlock) until:2022-10-04 since:2022-10-01',\n",
    "    'Bills  ((#Bills OR #BillsMafia) AND -#HereWeGo) until:2022-10-08 since:2022-10-11',\n",
    "    'Bills  ((#Bills OR #BillsMafia) AND -#ChiefsKingdom) until:2022-10-18 since:2022-10-15',\n",
    "    'Bills  ((#Bills OR #BillsMafia) AND -#GoPackGo) until:2022-11-01 since:2022-10-29',\n",
    "    'Bills  ((#Bills OR #BillsMafia) AND -#TakeFlight) until:2022-11-08 since:2022-11-05',\n",
    "    'Bills  ((#Bills OR #BillsMafia) AND -#SKOL) until:2022-11-15 since:2022-11-12',\n",
    "    'Bills  ((#Bills OR #BillsMafia) AND -#Browns) until:2022-11-22 since:2022-11-19',\n",
    "    'Bills  ((#Bills OR #BillsMafia) AND -#OnePride) until:2022-11-26 since:2022-11-23',\n",
    "    'Bills  ((#Bills OR #BillsMafia) AND -#ForeverNE) until:2022-12-03 since:2022-11-30'\n",
    "]\n",
    "list_csv_names_bills =[\n",
    "    'Bills_CSVs/Bills_Pre_Game1_Colts.csv',\n",
    "    'Bills_CSVs/Bills_Pre_Game2_Broncos.csv',\n",
    "    'Bills_CSVs/Bills_Pre_Game3_Panthers.csv',\n",
    "    'Bills_CSVs/Bills_Game1_Rams.csv',\n",
    "    'Bills_CSVs/Bills_Game2_Titans.csv',\n",
    "    'Bills_CSVs/Bills_Game3_Dolphins.csv',\n",
    "    'Bills_CSVs/Bills_Game4_Ravens.csv',\n",
    "    'Bills_CSVs/Bills_Game5_Steelers.csv',\n",
    "    'Bills_CSVs/Bills_Game6_Chiefs.csv',\n",
    "    'Bills_CSVs/Bills_Game7_Packers.csv',\n",
    "    'Bills_CSVs/Bills_Game8_Jets.csv',\n",
    "    'Bills_CSVs/Bills_Game9_Vikings.csv',\n",
    "    'Bills_CSVs/Bills_Game10_Browns.csv',\n",
    "    'Bills_CSVs/Bills_Game11_Lions.csv',\n",
    "    'Bills_CSVs/Bills_Game12_Patriots'\n",
    "]\n",
    "assert(len(list_csv_names_bills)==len(list_of_queries_bills))\n",
    "\n",
    "#DOLPHINS GAME QUERY LIST AND CSV LIST\n",
    "\n",
    "list_of_queries_dolphs =[\n",
    "    'Dolphins  ((#Dolphins OR #FinsUp) AND -#GoBucs) until:2022-08-15 since:2022-08-12',\n",
    "    'Dolphins  ((#Dolphins OR #FinsUp) AND -#RaiderNation) until:2022-08-22 since:2022-08-19',\n",
    "    'Dolphins  ((#Dolphins OR #FinsUp) AND -#FlyEaglesFly) until:2022-08-29 since:2022-08-26',\n",
    "    'Dolphins  ((#Dolphins OR #FinsUp) AND -#ForeverNE) until:2022-09-13 since:2022-09-10',\n",
    "    'Dolphins  ((#Dolphins OR #FinsUp) AND -#RavensFlock) until:2022-09-20 since:2022-08-17',\n",
    "    'Dolphins  ((#Dolphins OR #FinsUp) AND -#BillsMafia) until:2022-09-27 since:2022-08-24',\n",
    "    'Dolphins  ((#Dolphins OR #FinsUp) AND -#RuleTheJungle) until:2022-10-01 since:2022-09-28',\n",
    "    'Dolphins  ((#Dolphins OR #FinsUp) AND -#TakeFlight) until:2022-10-11 since:2022-10-08',\n",
    "    'Dolphins  ((#Dolphins OR #FinsUp) AND -#SKOL) until:2022-10-18 since:2022-10-15',\n",
    "    'Dolphins  ((#Dolphins OR #FinsUp) AND -#HereWeGo) until:2022-10-25 since:2022-10-22',\n",
    "    'Dolphins  ((#Dolphins OR #FinsUp) AND -#OnePride) until:2022-11-01 since:2022-10-29',\n",
    "    'Dolphins  ((#Dolphins OR #FinsUp) AND -#DaBears) until:2022-11-08 since:2022-10-05',\n",
    "    'Dolphins  ((#Dolphins OR #FinsUp) AND -#Browns) until:2022-11-15 since:2022-11-12',\n",
    "    'Dolphins  ((#Dolphins OR #FinsUp) AND -#WeAreTexans) until:2022-11-29 since:2022-11-26'\n",
    "]\n",
    "list_csv_names_dolphs =[\n",
    "    'Dolphins_CSVs/Dolphins_Pre_Game1_Buccaneers.csv',\n",
    "    'Dolphins_CSVs/Dolphins_Pre_Game2_Raiders.csv',\n",
    "    'Dolphins_CSVs/Dolphins_Pre_Game3_Eagles.csv',\n",
    "    'Dolphins_CSVs/Dolphins_Game1_Patriots.csv',\n",
    "    'Dolphins_CSVs/Dolphins_Game2_Ravens.csv',\n",
    "    'Dolphins_CSVs/Dolphins_Game3_Bills.csv',\n",
    "    'Dolphins_CSVs/Dolphins_Game4_Bengals.csv',\n",
    "    'Dolphins_CSVs/Dolphins_Game5_Jets.csv',\n",
    "    'Dolphins_CSVs/Dolphins_Game6_Vikings.csv',\n",
    "    'Dolphins_CSVs/Dolphins_Game7_Steelers.csv',\n",
    "    'Dolphins_CSVs/Dolphins_Game8_Lions.csv',\n",
    "    'Dolphins_CSVs/Dolphins_Game9_Bears.csv',\n",
    "    'Dolphins_CSVs/Dolphins_Game10_Browns.csv',\n",
    "    'Dolphins_CSVs/Dolphins_Game11_Texans.csv'    \n",
    "]\n",
    "assert(len(list_csv_names_dolphs)==len(list_of_queries_dolphs))"
   ]
  },
  {
   "cell_type": "code",
   "execution_count": null,
   "id": "6dd06389",
   "metadata": {},
   "outputs": [
    {
     "name": "stderr",
     "output_type": "stream",
     "text": [
      "\r",
      "  0%|                                                                                           | 0/15 [00:00<?, ?it/s]"
     ]
    }
   ],
   "source": [
    "limit = 10000\n",
    "queries_less_than_500 = []\n",
    "for i, ele in enumerate(tqdm(list_of_queries_bills)):\n",
    "    df = create_full_data_frame(list_of_queries_bills[i],limit)\n",
    "    if(len(df)<=500):\n",
    "        #print(list_of_queries_bills[i], len(df))\n",
    "        queries_less_than_500.append(i)\n",
    "    else:\n",
    "        make_csv_from_df(df,list_csv_names_bills[i])\n",
    "        #print(f\"{list_csv_names_bills[i]} made\")"
   ]
  },
  {
   "cell_type": "code",
   "execution_count": null,
   "id": "8583addb",
   "metadata": {},
   "outputs": [],
   "source": [
    "limit = 10000\n",
    "queries_less_than_500 = []\n",
    "for i, ele in enumerate(tqdm(list_of_queries_dolphs)):\n",
    "    df = create_full_data_frame(list_of_queries_dolphs[i],limit)\n",
    "    if(len(df)<=500):\n",
    "        #print(list_of_queries_dolphs[i], len(df))\n",
    "        queries_less_than_500.append(i)\n",
    "    else:\n",
    "        make_csv_from_df(df,list_csv_names_dolphs[i])\n",
    "        #print(f\"{list_csv_names_dolphs[i]} made\")"
   ]
  }
 ],
 "metadata": {
  "kernelspec": {
   "display_name": "Python 3 (ipykernel)",
   "language": "python",
   "name": "python3"
  },
  "language_info": {
   "codemirror_mode": {
    "name": "ipython",
    "version": 3
   },
   "file_extension": ".py",
   "mimetype": "text/x-python",
   "name": "python",
   "nbconvert_exporter": "python",
   "pygments_lexer": "ipython3",
   "version": "3.9.7"
  }
 },
 "nbformat": 4,
 "nbformat_minor": 5
}
