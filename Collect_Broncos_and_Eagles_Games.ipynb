{
 "cells": [
  {
   "cell_type": "code",
   "execution_count": 6,
   "id": "367905b4",
   "metadata": {},
   "outputs": [],
   "source": [
    "import pandas as pd\n",
    "import numpy as np\n",
    "from Collect_and_Clean_Tweets import create_full_data_frame, make_csv_from_df\n",
    "from tqdm import tqdm"
   ]
  },
  {
   "cell_type": "code",
   "execution_count": 7,
   "id": "0c397bd3",
   "metadata": {},
   "outputs": [],
   "source": [
    "list_of_quries_broncos =[\n",
    "    'Broncos  ((#Broncos OR #BroncosCountry) AND -#DallasCowboys) until:2022-08-15 since:2022-08-12',\n",
    "    'Broncos  ((#Broncos OR #BroncosCountry) AND -#BillsMafia) until:2022-08-22 since:2022-08-19',\n",
    "    'Broncos  ((#Broncos OR #BroncosCountry) AND -#SKOL) until:2022-08-29 since:2022-08-26',\n",
    "    'Broncos  ((#Broncos OR #BroncosCountry) AND -#Seahawks) until:2022-09-14 since:2022-09-11',\n",
    "    'Broncos  ((#Broncos OR #BroncosCountry) AND -#WeAreTexans) until:2022-09-20 since:2022-09-17',\n",
    "    'Broncos  ((#Broncos OR #BroncosCountry) AND -#FTTB) until:2022-09-27 since:2022-09-24',\n",
    "    'Broncos  ((#Broncos OR #BroncosCountry) AND -#RaiderNation) until:2022-10-04 since:2022-10-01',\n",
    "    'Broncos  ((#Broncos OR #BroncosCountry) AND -#ForTheShoe) until:2022-10-07 since:2022-10-05',\n",
    "    'Broncos  ((#Broncos OR #BroncosCountry) AND -#BoltUp) until:2022-10-19 since:2022-10-16',\n",
    "    'Broncos  ((#Broncos OR #BroncosCountry) AND -#TakeFlight) until:2022-10-25 since:2022-10-22',\n",
    "    'Broncos  ((#Broncos OR #BroncosCountry) AND -#DUUUVAL) until:2022-11-01 since:2022-10-29',\n",
    "    'Broncos  ((#Broncos OR #BroncosCountry) AND -#Titans) until:2022-11-15 since:2022-11-12'\n",
    "]\n",
    "#'Eagles  ((#Eagles OR #FlyEaglesFly) AND -#RaiderNation) until:2022-11-22 since:2022-10-19',\n",
    "list_csv_names_broncos =[\n",
    "    'Broncos_Pre_Game1_Cowboys.csv',\n",
    "    'Broncos_Pre_Game2_Bills.csv',\n",
    "    'Broncos_Pre_Game3_Vikings.csv',\n",
    "    'Broncos_Game1_Seahawks.csv',\n",
    "    'Broncos_Game2_Texans.csv',\n",
    "    'Broncos_Game3_49ers.csv',\n",
    "    'Broncos_Game4_Raiders.csv',\n",
    "    'Broncos_Game5_Colts.csv',\n",
    "    'Broncos_Game6_Chargers.csv',\n",
    "    'Broncos_Game7_Jets.csv',\n",
    "    'Broncos_Game8_Jaguars.csv',\n",
    "    'Broncos_Game9_Titans.csv'\n",
    "]\n",
    "#'Broncos_Game10_Raiders.csv'\n",
    "assert(len(list_csv_names_broncos)==len(list_of_quries_broncos))"
   ]
  },
  {
   "cell_type": "code",
   "execution_count": 8,
   "id": "200ea2a1",
   "metadata": {},
   "outputs": [
    {
     "name": "stderr",
     "output_type": "stream",
     "text": [
      "  8%|██████▉                                                                            | 1/12 [00:57<10:36, 57.82s/it]"
     ]
    },
    {
     "name": "stdout",
     "output_type": "stream",
     "text": [
      "Broncos_Pre_Game1_Cowboys.csv made\n"
     ]
    },
    {
     "name": "stderr",
     "output_type": "stream",
     "text": [
      "\r",
      " 17%|█████████████▊                                                                     | 2/12 [01:38<07:57, 47.76s/it]"
     ]
    },
    {
     "name": "stdout",
     "output_type": "stream",
     "text": [
      "Broncos_Pre_Game2_Bills.csv made\n"
     ]
    },
    {
     "name": "stderr",
     "output_type": "stream",
     "text": [
      "\r",
      " 25%|████████████████████▊                                                              | 3/12 [02:14<06:22, 42.53s/it]"
     ]
    },
    {
     "name": "stdout",
     "output_type": "stream",
     "text": [
      "Broncos_Pre_Game3_Vikings.csv made\n"
     ]
    },
    {
     "name": "stderr",
     "output_type": "stream",
     "text": [
      "\r",
      " 33%|███████████████████████████▎                                                      | 4/12 [05:25<13:28, 101.08s/it]"
     ]
    },
    {
     "name": "stdout",
     "output_type": "stream",
     "text": [
      "Broncos_Game1_Seahawks.csv made\n"
     ]
    },
    {
     "name": "stderr",
     "output_type": "stream",
     "text": [
      "\r",
      " 42%|██████████████████████████████████▏                                               | 5/12 [07:26<12:36, 108.05s/it]"
     ]
    },
    {
     "name": "stdout",
     "output_type": "stream",
     "text": [
      "Broncos_Game2_Texans.csv made\n"
     ]
    },
    {
     "name": "stderr",
     "output_type": "stream",
     "text": [
      "\r",
      " 50%|█████████████████████████████████████████                                         | 6/12 [10:10<12:43, 127.24s/it]"
     ]
    },
    {
     "name": "stdout",
     "output_type": "stream",
     "text": [
      "Broncos_Game3_49ers.csv made\n"
     ]
    },
    {
     "name": "stderr",
     "output_type": "stream",
     "text": [
      "\r",
      " 58%|███████████████████████████████████████████████▊                                  | 7/12 [12:02<10:10, 122.12s/it]"
     ]
    },
    {
     "name": "stdout",
     "output_type": "stream",
     "text": [
      "Broncos_Game4_Raiders.csv made\n"
     ]
    },
    {
     "name": "stderr",
     "output_type": "stream",
     "text": [
      "\r",
      " 67%|██████████████████████████████████████████████████████▋                           | 8/12 [12:56<06:42, 100.63s/it]"
     ]
    },
    {
     "name": "stdout",
     "output_type": "stream",
     "text": [
      "Broncos_Game5_Colts.csv made\n"
     ]
    },
    {
     "name": "stderr",
     "output_type": "stream",
     "text": [
      "\r",
      " 75%|█████████████████████████████████████████████████████████████▌                    | 9/12 [16:07<06:26, 128.91s/it]"
     ]
    },
    {
     "name": "stdout",
     "output_type": "stream",
     "text": [
      "Broncos_Game6_Chargers.csv made\n"
     ]
    },
    {
     "name": "stderr",
     "output_type": "stream",
     "text": [
      "\r",
      " 83%|███████████████████████████████████████████████████████████████████▌             | 10/12 [23:01<07:13, 216.92s/it]"
     ]
    },
    {
     "name": "stdout",
     "output_type": "stream",
     "text": [
      "Broncos_Game7_Jets.csv made\n"
     ]
    },
    {
     "name": "stderr",
     "output_type": "stream",
     "text": [
      "\r",
      " 92%|██████████████████████████████████████████████████████████████████████████▎      | 11/12 [25:09<03:09, 189.62s/it]"
     ]
    },
    {
     "name": "stdout",
     "output_type": "stream",
     "text": [
      "Broncos_Game8_Jaguars.csv made\n"
     ]
    },
    {
     "name": "stderr",
     "output_type": "stream",
     "text": [
      "100%|█████████████████████████████████████████████████████████████████████████████████| 12/12 [26:21<00:00, 131.78s/it]"
     ]
    },
    {
     "name": "stdout",
     "output_type": "stream",
     "text": [
      "Broncos_Game9_Titans.csv made\n"
     ]
    },
    {
     "name": "stderr",
     "output_type": "stream",
     "text": [
      "\n"
     ]
    }
   ],
   "source": [
    "limit = 10000\n",
    "queries_less_than_500 = []\n",
    "for i, ele in enumerate(tqdm(list_of_quries_broncos)):\n",
    "    df = create_full_data_frame(list_of_quries_broncos[i],limit)\n",
    "    if(len(df)<=500):\n",
    "        #print(list_of_quries_broncos[i], len(df))\n",
    "        queries_less_than_500.append(i)\n",
    "    else:\n",
    "        make_csv_from_df(df,list_csv_names_broncos[i])\n",
    "        print(f\"{list_csv_names_broncos[i]} made\")"
   ]
  },
  {
   "cell_type": "code",
   "execution_count": 10,
   "id": "a5a9295e",
   "metadata": {},
   "outputs": [],
   "source": [
    "list_of_quries_eagles =[\n",
    "    'Eagles  ((#Eagles OR #FlyEaglesFly) AND -#TakeFlight) until:2022-08-15 since:2022-08-11',\n",
    "    'Eagles  ((#Eagles OR #FlyEaglesFly) AND -#Browns) until:2022-08-23 since:2022-08-20',\n",
    "    'Eagles  ((#Eagles OR #FlyEaglesFly) AND -#FinsUp) until:2022-08-29 since:2022-08-26',\n",
    "    'Eagles  ((#Eagles OR #FlyEaglesFly) AND -#OnePride) until:2022-09-13 since:2022-08-10',\n",
    "    'Eagles  ((#Eagles OR #FlyEaglesFly) AND -#SKOL) until:2022-09-21 since:2022-08-18',\n",
    "    'Eagles  ((#Eagles OR #FlyEaglesFly) AND -#HTTC) until:2022-09-27 since:2022-08-24',\n",
    "    'Eagles  ((#Eagles OR #FlyEaglesFly) AND -#DUUUVAL) until:2022-10-04 since:2022-10-01',\n",
    "    'Eagles  ((#Eagles OR #FlyEaglesFly) AND -#BirdCityFootball) until:2022-10-11 since:2022-10-08',\n",
    "    'Eagles  ((#Eagles OR #FlyEaglesFly) AND -#DallasCowboys) until:2022-10-18 since:2022-10-15',\n",
    "    'Eagles  ((#Eagles OR #FlyEaglesFly) AND -#HereWeGo) until:2022-11-01 since:2022-10-29',\n",
    "    'Eagles  ((#Eagles OR #FlyEaglesFly) AND -#WeAreTexans) until:2022-11-05 since:2022-10-02',\n",
    "    'Eagles  ((#Eagles OR #FlyEaglesFly) AND -#HTTC) until:2022-11-16 since:2022-10-13'\n",
    "]\n",
    " #'Eagles  ((#Eagles OR #FlyEaglesFly) AND -#ForTheShoe) until:2022-11-22 since:2022-10-19',\n",
    "list_csv_names_eagles =[\n",
    "    'Eagles_Pre_Game1_Jets.csv',\n",
    "    'Eagles_Pre_Game2_Browns.csv',\n",
    "    'Eagles_Pre_Game3_Dolphins.csv',\n",
    "    'Eagles_Game1_Lions.csv',\n",
    "    'Eagles_Game2_Vikings.csv',\n",
    "    'Eagles_Game3_Washington.csv',\n",
    "    'Eagles_Game4_Jaguars.csv',\n",
    "    'Eagles_Game5_Cardinals.csv',\n",
    "    'Eagles_Game6_Cowboys.csv',\n",
    "    'Eagles_Game7_Steelers.csv',\n",
    "    'Eagles_Game8_Texans.csv',\n",
    "    'Eagles_Game9_Colts.csv'\n",
    "]\n",
    "#'Eagles_Game10_Washington.csv',\n",
    "assert(len(list_csv_names_eagles)==len(list_of_quries_eagles))"
   ]
  },
  {
   "cell_type": "code",
   "execution_count": 12,
   "id": "501065e8",
   "metadata": {},
   "outputs": [],
   "source": [
    "eagle_games_quries_list = [\n",
    "    'Eagles  ((#Eagles OR #FlyEaglesFly) AND -#DallasCowboys) until:2022-10-18 since:2022-10-15',\n",
    "    'Eagles  ((#Eagles OR #FlyEaglesFly) AND -#HereWeGo) until:2022-11-01 since:2022-10-29',\n",
    "    'Eagles  ((#Eagles OR #FlyEaglesFly) AND -#WeAreTexans) until:2022-11-05 since:2022-10-02',\n",
    "    'Eagles  ((#Eagles OR #FlyEaglesFly) AND -#HTTC) until:2022-11-16 since:2022-10-13'\n",
    "]\n",
    "eagles_games_csv_list = [\n",
    "    'Eagles_Game6_Cowboys.csv',\n",
    "    'Eagles_Game7_Steelers.csv',\n",
    "    'Eagles_Game8_Texans.csv',\n",
    "    'Eagles_Game9_Colts.csv']"
   ]
  },
  {
   "cell_type": "code",
   "execution_count": 13,
   "id": "444ac557",
   "metadata": {},
   "outputs": [
    {
     "name": "stderr",
     "output_type": "stream",
     "text": [
      "100%|███████████████████████████████████████████████████████████████████████████████████| 4/4 [17:19<00:00, 259.82s/it]\n"
     ]
    }
   ],
   "source": [
    "limit = 10000\n",
    "queries_less_than_500 = []\n",
    "for i, ele in enumerate(tqdm(eagle_games_quries_list)):\n",
    "    df = create_full_data_frame(eagle_games_quries_list[i],limit)\n",
    "    if(len(df)<=500):\n",
    "        print(eagle_games_quries_list[i], len(df))\n",
    "        queries_less_than_500.append(i)\n",
    "    else:\n",
    "        make_csv_from_df(df,eagles_games_csv_list[i])\n",
    "        #print(f\"{list_csv_names_eagles[i]} made\")"
   ]
  },
  {
   "cell_type": "code",
   "execution_count": null,
   "id": "96d4ce27",
   "metadata": {},
   "outputs": [],
   "source": []
  }
 ],
 "metadata": {
  "kernelspec": {
   "display_name": "Python 3 (ipykernel)",
   "language": "python",
   "name": "python3"
  },
  "language_info": {
   "codemirror_mode": {
    "name": "ipython",
    "version": 3
   },
   "file_extension": ".py",
   "mimetype": "text/x-python",
   "name": "python",
   "nbconvert_exporter": "python",
   "pygments_lexer": "ipython3",
   "version": "3.9.7"
  }
 },
 "nbformat": 4,
 "nbformat_minor": 5
}
