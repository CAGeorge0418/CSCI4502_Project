{
 "cells": [
  {
   "cell_type": "code",
   "execution_count": 15,
   "id": "367905b4",
   "metadata": {},
   "outputs": [],
   "source": [
    "import pandas as pd\n",
    "import numpy as np\n",
    "from Collect_and_Clean_Tweets import create_full_data_frame, make_csv_from_df\n",
    "from tqdm import tqdm"
   ]
  },
  {
   "cell_type": "code",
   "execution_count": 16,
   "id": "0c397bd3",
   "metadata": {},
   "outputs": [],
   "source": [
    "list_of_queries_niners =[\n",
    "    'Niners  ((#Niners OR #FTTB) AND -#GoPackGo) until:2022-08-15 since:2022-08-12',\n",
    "    'Niners  ((#Niners OR #FTTB) AND -#SKOL) until:2022-08-23 since:2022-08-20',\n",
    "    'Niners  ((#Niners OR #FTTB) AND -#WeAreTexans) until:2022-08-28 since:2022-08-25',\n",
    "    'Niners  ((#Niners OR #FTTB) AND -#DaBears) until:2022-09-14 since:2022-09-11',\n",
    "    'Niners  ((#Niners OR #FTTB) AND -#Seahawks) until:2022-09-21 since:2022-09-18',\n",
    "    'Niners  ((#Niners OR #FTTB) AND -#BroncosCountry) until:2022-09-28 since:2022-09-25',\n",
    "    'Niners  ((#Niners OR #FTTB) AND -#RamsHouse) until:2022-10-06 since:2022-10-03',\n",
    "    'Niners  ((#Niners OR #FTTB) AND -#KeepPounding) until:2022-10-12 since:2022-10-09',\n",
    "    'Niners  ((#Niners OR #FTTB) AND -#DirtyBirds) until:2022-10-19 since:2022-10-16',\n",
    "    'Niners  ((#Niners OR #FTTB) AND -#ChiefsKingdom) until:2022-10-26 since:2022-10-23',\n",
    "    'Niners  ((#Niners OR #FTTB) AND -#RamsHouse) until:2022-11-02 since:2022-10-30',\n",
    "    'Niners  ((#Niners OR #FTTB) AND -#BoltUp) until:2022-11-16 since:2022-11-13',\n",
    "    'Niners  ((#Niners OR #FTTB) AND -#BirdCityFootball) until:2022-11-24 since:2022-11-21',\n",
    "    'Niners  ((#Niners OR #FTTB) AND -#Saints) until:2022-11-30 since:2022-11-27'\n",
    "]\n",
    "list_csv_names_niners =[\n",
    "    'Niners_Pre_Game1_Packers.csv',\n",
    "    'Niners_Pre_Game2_Vikings.csv',\n",
    "    'Niners_Pre_Game3_Texans.csv',\n",
    "    'Niners_Game1_Bears.csv',\n",
    "    'Niners_Game2_Seahawks.csv',\n",
    "    'Niners_Game3_Broncos.csv',\n",
    "    'Niners_Game4_Rams.csv',\n",
    "    'Niners_Game5_Panthers.csv',\n",
    "    'Niners_Game6_Falcons.csv',\n",
    "    'Niners_Game7_Chiefs.csv',\n",
    "    'Niners_Game8_Rams.csv',\n",
    "    'Niners_Game9_Chargers.csv',\n",
    "    'Niners_Game10_Cardinals.csv',\n",
    "    'Niners_Game11_Saints.csv'\n",
    "]\n",
    "assert(len(list_csv_names_niners)==len(list_of_queries_niners))"
   ]
  },
  {
   "cell_type": "code",
   "execution_count": 17,
   "id": "200ea2a1",
   "metadata": {},
   "outputs": [
    {
     "name": "stderr",
     "output_type": "stream",
     "text": [
      " 29%|██▊       | 4/14 [01:38<04:50, 29.06s/it]"
     ]
    },
    {
     "name": "stdout",
     "output_type": "stream",
     "text": [
      "Niners_Game1_Bears.csv made\n"
     ]
    },
    {
     "name": "stderr",
     "output_type": "stream",
     "text": [
      " 36%|███▌      | 5/14 [02:30<05:37, 37.54s/it]"
     ]
    },
    {
     "name": "stdout",
     "output_type": "stream",
     "text": [
      "Niners_Game2_Seahawks.csv made\n"
     ]
    },
    {
     "name": "stderr",
     "output_type": "stream",
     "text": [
      " 43%|████▎     | 6/14 [03:23<05:41, 42.63s/it]"
     ]
    },
    {
     "name": "stdout",
     "output_type": "stream",
     "text": [
      "Niners_Game3_Broncos.csv made\n"
     ]
    },
    {
     "name": "stderr",
     "output_type": "stream",
     "text": [
      " 50%|█████     | 7/14 [04:26<05:46, 49.46s/it]"
     ]
    },
    {
     "name": "stdout",
     "output_type": "stream",
     "text": [
      "Niners_Game4_Rams.csv made\n"
     ]
    },
    {
     "name": "stderr",
     "output_type": "stream",
     "text": [
      " 57%|█████▋    | 8/14 [05:06<04:37, 46.22s/it]"
     ]
    },
    {
     "name": "stdout",
     "output_type": "stream",
     "text": [
      "Niners_Game5_Panthers.csv made\n"
     ]
    },
    {
     "name": "stderr",
     "output_type": "stream",
     "text": [
      " 64%|██████▍   | 9/14 [05:32<03:20, 40.04s/it]"
     ]
    },
    {
     "name": "stdout",
     "output_type": "stream",
     "text": [
      "Niners_Game6_Falcons.csv made\n"
     ]
    },
    {
     "name": "stderr",
     "output_type": "stream",
     "text": [
      " 71%|███████▏  | 10/14 [06:16<02:44, 41.13s/it]"
     ]
    },
    {
     "name": "stdout",
     "output_type": "stream",
     "text": [
      "Niners_Game7_Chiefs.csv made\n"
     ]
    },
    {
     "name": "stderr",
     "output_type": "stream",
     "text": [
      " 79%|███████▊  | 11/14 [07:02<02:08, 42.76s/it]"
     ]
    },
    {
     "name": "stdout",
     "output_type": "stream",
     "text": [
      "Niners_Game8_Rams.csv made\n"
     ]
    },
    {
     "name": "stderr",
     "output_type": "stream",
     "text": [
      " 86%|████████▌ | 12/14 [07:51<01:29, 44.54s/it]"
     ]
    },
    {
     "name": "stdout",
     "output_type": "stream",
     "text": [
      "Niners_Game9_Chargers.csv made\n"
     ]
    },
    {
     "name": "stderr",
     "output_type": "stream",
     "text": [
      " 93%|█████████▎| 13/14 [08:47<00:48, 48.09s/it]"
     ]
    },
    {
     "name": "stdout",
     "output_type": "stream",
     "text": [
      "Niners_Game10_Cardinals.csv made\n"
     ]
    },
    {
     "name": "stderr",
     "output_type": "stream",
     "text": [
      "100%|██████████| 14/14 [09:22<00:00, 40.17s/it]"
     ]
    },
    {
     "name": "stdout",
     "output_type": "stream",
     "text": [
      "Niners_Game11_Saints.csv made\n"
     ]
    },
    {
     "name": "stderr",
     "output_type": "stream",
     "text": [
      "\n"
     ]
    }
   ],
   "source": [
    "limit = 10000\n",
    "queries_less_than_500 = []\n",
    "for i, ele in enumerate(tqdm(list_of_queries_niners)):\n",
    "    df = create_full_data_frame(list_of_queries_niners[i],limit)\n",
    "    if(len(df)<=500):\n",
    "        #print(list_of_quries_broncos[i], len(df))\n",
    "        queries_less_than_500.append(i)\n",
    "    else:\n",
    "        make_csv_from_df(df,list_csv_names_niners[i])\n",
    "        print(f\"{list_csv_names_niners[i]} made\")"
   ]
  },
  {
   "cell_type": "code",
   "execution_count": 18,
   "id": "a5a9295e",
   "metadata": {},
   "outputs": [],
   "source": [
    "list_of_queries_bears =[\n",
    "    'Bears  ((#Bears OR #DaBears) AND -#ChiefsKingdom) until:2022-08-16 since:2022-08-13',\n",
    "    'Bears  ((#Bears OR #DaBears) AND -#Seahawks) until:2022-08-21 since:2022-08-18',\n",
    "    'Bears  ((#Bears OR #DaBears) AND -#Browns) until:2022-08-30 since:2022-08-27',\n",
    "    'Bears  ((#Bears OR #DaBears) AND -#FTTB) until:2022-09-14 since:2022-09-11',\n",
    "    'Bears  ((#Bears OR #DaBears) AND -#GoPackGo) until:2022-09-21 since:2022-09-18',\n",
    "    'Bears  ((#Bears OR #DaBears) AND -#WeAreTexans) until:2022-09-28 since:2022-09-25',\n",
    "    'Bears  ((#Bears OR #DaBears) AND -#TogetherBlue) until:2022-10-05 since:2022-10-02',\n",
    "    'Bears  ((#Bears OR #DaBears) AND -#SKOL) until:2022-10-12 since:2022-10-09',\n",
    "    'Bears  ((#Bears OR #DaBears) AND -#HTTC) until:2022-10-16 since:2022-10-13',\n",
    "    'Bears  ((#Bears OR #DaBears) AND -#ForeverNE) until:2022-10-27 since:2022-10-24',\n",
    "    'Bears  ((#Bears OR #DaBears) AND -#DallasCowboys) until:2022-11-02 since:2022-10-30',\n",
    "    'Bears  ((#Bears OR #DaBears) AND -#FinsUp) until:2022-11-09 since:2022-11-06',\n",
    "    'Bears  ((#Bears OR #DaBears) AND -#OnePride) until:2022-11-16 since:2022-11-13',\n",
    "    'Bears  ((#Bears OR #DaBears) AND -#DirtyBirds) until:2022-11-23 since:2022-11-20'\n",
    "]\n",
    "list_csv_names_bears =[\n",
    "    'Bears_Pre_Game1_Chiefs.csv',\n",
    "    'Bears_Pre_Game2_Seahawks.csv',\n",
    "    'Bears_Pre_Game3_Browns.csv',\n",
    "    'Bears_Game1_Niners.csv',\n",
    "    'Bears_Game2_Packers.csv',\n",
    "    'Bears_Game3_Texans.csv',\n",
    "    'Bears_Game4_Giants.csv',\n",
    "    'Bears_Game5_Vikings.csv',\n",
    "    'Bears_Game6_Commanders.csv',\n",
    "    'Bears_Game7_Patriots.csv',\n",
    "    'Bears_Game8_Cowboys.csv',\n",
    "    'Bears_Game9_Dolphins.csv',\n",
    "    'Bears_Game10_Lions.csv',\n",
    "    'Bears_Game11_Falcons.csv'\n",
    "]\n",
    "assert(len(list_csv_names_bears)==len(list_of_queries_bears))"
   ]
  },
  {
   "cell_type": "code",
   "execution_count": 19,
   "id": "444ac557",
   "metadata": {},
   "outputs": [
    {
     "name": "stderr",
     "output_type": "stream",
     "text": [
      "  7%|▋         | 1/14 [01:40<21:47, 100.61s/it]"
     ]
    },
    {
     "name": "stdout",
     "output_type": "stream",
     "text": [
      "Bears_Pre_Game1_Chiefs.csv made\n"
     ]
    },
    {
     "name": "stderr",
     "output_type": "stream",
     "text": [
      " 14%|█▍        | 2/14 [03:11<19:01, 95.16s/it] "
     ]
    },
    {
     "name": "stdout",
     "output_type": "stream",
     "text": [
      "Bears_Pre_Game2_Seahawks.csv made\n"
     ]
    },
    {
     "name": "stderr",
     "output_type": "stream",
     "text": [
      " 21%|██▏       | 3/14 [04:35<16:28, 89.83s/it]"
     ]
    },
    {
     "name": "stdout",
     "output_type": "stream",
     "text": [
      "Bears_Pre_Game3_Browns.csv made\n"
     ]
    },
    {
     "name": "stderr",
     "output_type": "stream",
     "text": [
      " 29%|██▊       | 4/14 [09:12<27:18, 163.80s/it]"
     ]
    },
    {
     "name": "stdout",
     "output_type": "stream",
     "text": [
      "Bears_Game1_Niners.csv made\n"
     ]
    },
    {
     "name": "stderr",
     "output_type": "stream",
     "text": [
      " 36%|███▌      | 5/14 [13:03<28:11, 187.90s/it]"
     ]
    },
    {
     "name": "stdout",
     "output_type": "stream",
     "text": [
      "Bears_Game2_Packers.csv made\n"
     ]
    },
    {
     "name": "stderr",
     "output_type": "stream",
     "text": [
      " 43%|████▎     | 6/14 [16:05<24:48, 186.09s/it]"
     ]
    },
    {
     "name": "stdout",
     "output_type": "stream",
     "text": [
      "Bears_Game3_Texans.csv made\n"
     ]
    },
    {
     "name": "stderr",
     "output_type": "stream",
     "text": [
      " 50%|█████     | 7/14 [19:17<21:54, 187.76s/it]"
     ]
    },
    {
     "name": "stdout",
     "output_type": "stream",
     "text": [
      "Bears_Game4_Giants.csv made\n"
     ]
    },
    {
     "name": "stderr",
     "output_type": "stream",
     "text": [
      " 57%|█████▋    | 8/14 [22:17<18:31, 185.30s/it]"
     ]
    },
    {
     "name": "stdout",
     "output_type": "stream",
     "text": [
      "Bears_Game5_Vikings.csv made\n"
     ]
    },
    {
     "name": "stderr",
     "output_type": "stream",
     "text": [
      " 64%|██████▍   | 9/14 [26:45<17:35, 211.16s/it]"
     ]
    },
    {
     "name": "stdout",
     "output_type": "stream",
     "text": [
      "Bears_Game6_Commanders.csv made\n"
     ]
    },
    {
     "name": "stderr",
     "output_type": "stream",
     "text": [
      " 71%|███████▏  | 10/14 [31:10<15:11, 227.84s/it]"
     ]
    },
    {
     "name": "stdout",
     "output_type": "stream",
     "text": [
      "Bears_Game7_Patriots.csv made\n"
     ]
    },
    {
     "name": "stderr",
     "output_type": "stream",
     "text": [
      " 79%|███████▊  | 11/14 [35:07<11:32, 230.67s/it]"
     ]
    },
    {
     "name": "stdout",
     "output_type": "stream",
     "text": [
      "Bears_Game8_Cowboys.csv made\n"
     ]
    },
    {
     "name": "stderr",
     "output_type": "stream",
     "text": [
      " 86%|████████▌ | 12/14 [38:23<07:20, 220.05s/it]"
     ]
    },
    {
     "name": "stdout",
     "output_type": "stream",
     "text": [
      "Bears_Game9_Dolphins.csv made\n"
     ]
    },
    {
     "name": "stderr",
     "output_type": "stream",
     "text": [
      " 93%|█████████▎| 13/14 [41:17<03:26, 206.31s/it]"
     ]
    },
    {
     "name": "stdout",
     "output_type": "stream",
     "text": [
      "Bears_Game10_Lions.csv made\n"
     ]
    },
    {
     "name": "stderr",
     "output_type": "stream",
     "text": [
      "100%|██████████| 14/14 [43:40<00:00, 187.16s/it]"
     ]
    },
    {
     "name": "stdout",
     "output_type": "stream",
     "text": [
      "Bears_Game11_Falcons.csv made\n"
     ]
    },
    {
     "name": "stderr",
     "output_type": "stream",
     "text": [
      "\n"
     ]
    }
   ],
   "source": [
    "limit = 10000\n",
    "queries_less_than_500 = []\n",
    "for i, ele in enumerate(tqdm(list_of_queries_bears)):\n",
    "    df = create_full_data_frame(list_of_queries_bears[i],limit)\n",
    "    if(len(df)<=500):\n",
    "        #print(list_of_queries_bears[i], len(df))\n",
    "        queries_less_than_500.append(i)\n",
    "    else:\n",
    "        make_csv_from_df(df,list_csv_names_bears[i])\n",
    "        print(f\"{list_csv_names_bears[i]} made\")"
   ]
  },
  {
   "cell_type": "code",
   "execution_count": null,
   "id": "96d4ce27",
   "metadata": {},
   "outputs": [],
   "source": []
  }
 ],
 "metadata": {
  "kernelspec": {
   "display_name": "Python 3.9.13 64-bit (microsoft store)",
   "language": "python",
   "name": "python3"
  },
  "language_info": {
   "codemirror_mode": {
    "name": "ipython",
    "version": 3
   },
   "file_extension": ".py",
   "mimetype": "text/x-python",
   "name": "python",
   "nbconvert_exporter": "python",
   "pygments_lexer": "ipython3",
   "version": "3.9.13"
  },
  "vscode": {
   "interpreter": {
    "hash": "6aa40184943719ff8ac736bd72f983c6c698908247fa2e3b3e297452c913fb30"
   }
  }
 },
 "nbformat": 4,
 "nbformat_minor": 5
}
