{
 "cells": [
  {
   "cell_type": "code",
   "execution_count": 2,
   "metadata": {},
   "outputs": [],
   "source": [
    "import pandas as pd\n",
    "import numpy as np\n",
    "import seaborn as sns\n",
    "import matplotlib.pyplot as plt\n",
    "import os"
   ]
  },
  {
   "cell_type": "code",
   "execution_count": 3,
   "metadata": {},
   "outputs": [],
   "source": [
    "browns_csvs = os.listdir('Browns_CSVs')\n",
    "browns_dfs = [pd.read_csv('Browns_CSVs/'+csv) for csv in browns_csvs]\n",
    "jags_csvs = os.listdir('Jaguars_CSVs')\n",
    "jags_dfs = [pd.read_csv('Jaguars_CSVs/'+csv) for csv in jags_csvs]\n",
    "bills_csvs = os.listdir('Bills_CSVs')\n",
    "bills_dfs = [pd.read_csv('Bills_CSVs/'+csv) for csv in bills_csvs]\n",
    "dolphs_csvs = os.listdir('Dolphins_CSVs')\n",
    "dolphs_dfs = [pd.read_csv('Dolphins_CSVs/'+csv) for csv in dolphs_csvs]\n",
    "steelers_csvs = os.listdir('./Steelers_Chiefs/CSVs/Steelers_CSVs')\n",
    "steelers_dfs = [pd.read_csv('./Steelers_Chiefs/CSVs/Steelers_CSVs/'+csv) for csv in steelers_csvs]\n",
    "chiefs_csvs = os.listdir('./Steelers_Chiefs/CSVs/Chiefs_CSVs')\n",
    "chiefs_dfs = [pd.read_csv('./Steelers_Chiefs/CSVs/Chiefs_CSVs/'+csv) for csv in chiefs_csvs]\n",
    "niners_csvs = os.listdir('Niners_CSVs')\n",
    "niners_dfs = [pd.read_csv('Niners_CSVs/'+csv) for csv in niners_csvs]\n",
    "bears_csvs = os.listdir('Bears_CSVs')\n",
    "bears_dfs = [pd.read_csv('Bears_CSVs/'+csv) for csv in bears_csvs]\n",
    "broncos_csvs = os.listdir('Broncos CSV 2')\n",
    "broncos_dfs = [pd.read_csv('Broncos CSV 2/'+csv) for csv in broncos_csvs]\n",
    "eagles_csvs = os.listdir('Eagles CSV 2')\n",
    "eagles_dfs = [pd.read_csv('Eagles CSV 2/'+csv) for csv in eagles_csvs]"
   ]
  },
  {
   "cell_type": "code",
   "execution_count": 4,
   "metadata": {},
   "outputs": [
    {
     "name": "stdout",
     "output_type": "stream",
     "text": [
      "[225.64758554525105, 347.596198732911, 619.3450418805728, 1031.7151232971203, 25.66039666299386, 61.025426430734896, 87.08341323106424, 19.86731081280425, 761.650621613006, 36.81720179928649, 21.23635112402508, 388.5731284085275, 41.12922922922923, 751.8334843268708]\n"
     ]
    }
   ],
   "source": [
    "steelers_dfs_reordered = [steelers_dfs[11],steelers_dfs[12],steelers_dfs[13],steelers_dfs[2],steelers_dfs[3],steelers_dfs[4], steelers_dfs[5], steelers_dfs[6], steelers_dfs[7], steelers_dfs[8], steelers_dfs[9], steelers_dfs[10],steelers_dfs[0], steelers_dfs[1]]\n",
    "steelers_wl = ['win', 'win', 'win', 'win', 'loss', 'loss', 'loss', 'loss', 'win', 'loss', 'loss', 'win', 'loss', 'win']\n",
    "#chiefs_wl = ['loss', 'win', 'win', 'win', 'win', 'loss', 'win', 'win', 'loss', 'win', 'win', 'win', 'win', 'loss'] \n",
    "expected = 0\n",
    "chi_squared = []\n",
    "for index, df in enumerate(steelers_dfs_reordered):\n",
    "    chi_squared_sum = df['Positive_Sentiment'].sum()\n",
    "    if steelers_wl[index] == 'win':\n",
    "        expected = df.shape[0]\n",
    "    else:\n",
    "        expected = 0.5 * df.shape[0]\n",
    "    chi_squared.append(((chi_squared_sum - expected)**2) / expected) \n",
    "print(chi_squared)\n"
   ]
  },
  {
   "cell_type": "markdown",
   "metadata": {},
   "source": [
    "**Chi-Squared Correlation Analysis - Avg. Positive Tweet Percentage (PTP) for Wins and Losses**"
   ]
  },
  {
   "cell_type": "code",
   "execution_count": 13,
   "metadata": {},
   "outputs": [
    {
     "name": "stdout",
     "output_type": "stream",
     "text": [
      "t-value: 34.54983117401112\n"
     ]
    },
    {
     "data": {
      "text/html": [
       "<div>\n",
       "<style scoped>\n",
       "    .dataframe tbody tr th:only-of-type {\n",
       "        vertical-align: middle;\n",
       "    }\n",
       "\n",
       "    .dataframe tbody tr th {\n",
       "        vertical-align: top;\n",
       "    }\n",
       "\n",
       "    .dataframe thead th {\n",
       "        text-align: right;\n",
       "    }\n",
       "</style>\n",
       "<table border=\"1\" class=\"dataframe\">\n",
       "  <thead>\n",
       "    <tr style=\"text-align: right;\">\n",
       "      <th></th>\n",
       "      <th>Win</th>\n",
       "      <th>Loss</th>\n",
       "    </tr>\n",
       "  </thead>\n",
       "  <tbody>\n",
       "    <tr>\n",
       "      <th>Above 0.612</th>\n",
       "      <td>61</td>\n",
       "      <td>22</td>\n",
       "    </tr>\n",
       "    <tr>\n",
       "      <th>Below 0.612</th>\n",
       "      <td>12</td>\n",
       "      <td>42</td>\n",
       "    </tr>\n",
       "  </tbody>\n",
       "</table>\n",
       "</div>"
      ],
      "text/plain": [
       "             Win  Loss\n",
       "Above 0.612   61    22\n",
       "Below 0.612   12    42"
      ]
     },
     "execution_count": 13,
     "metadata": {},
     "output_type": "execute_result"
    }
   ],
   "source": [
    "### PAIN ###\n",
    "browns_dfs_reordered = [browns_dfs[11],browns_dfs[12],browns_dfs[13],browns_dfs[2],browns_dfs[3],browns_dfs[4], browns_dfs[5], browns_dfs[6], browns_dfs[7], browns_dfs[8], browns_dfs[9], browns_dfs[10],browns_dfs[0], browns_dfs[1]]\n",
    "jags_dfs_reordered = [jags_dfs[11],jags_dfs[12],jags_dfs[13],jags_dfs[2],jags_dfs[3],jags_dfs[4], jags_dfs[5], jags_dfs[6], jags_dfs[7], jags_dfs[8], jags_dfs[9], jags_dfs[10],jags_dfs[0], jags_dfs[1]]\n",
    "bills_dfs_reordered = [bills_dfs[11],bills_dfs[12],bills_dfs[13],bills_dfs[2],bills_dfs[3],bills_dfs[4], bills_dfs[5], bills_dfs[6], bills_dfs[7], bills_dfs[8], bills_dfs[9], bills_dfs[10],bills_dfs[0], bills_dfs[1]]\n",
    "dolphs_dfs_reordered = [dolphs_dfs[11],dolphs_dfs[12],dolphs_dfs[13],dolphs_dfs[2],dolphs_dfs[3],dolphs_dfs[4], dolphs_dfs[5], dolphs_dfs[6], dolphs_dfs[7], dolphs_dfs[8], dolphs_dfs[9], dolphs_dfs[10],dolphs_dfs[0], dolphs_dfs[1]]\n",
    "steelers_dfs_reordered = [steelers_dfs[11],steelers_dfs[12],steelers_dfs[13],steelers_dfs[2],steelers_dfs[3],steelers_dfs[4], steelers_dfs[5], steelers_dfs[6], steelers_dfs[7], steelers_dfs[8], steelers_dfs[9], steelers_dfs[10],steelers_dfs[0], steelers_dfs[1]]\n",
    "chiefs_dfs_reordered = [chiefs_dfs[11],chiefs_dfs[12],chiefs_dfs[13],chiefs_dfs[2],chiefs_dfs[3],chiefs_dfs[4], chiefs_dfs[5], chiefs_dfs[6], chiefs_dfs[7], chiefs_dfs[8], chiefs_dfs[9], chiefs_dfs[10],chiefs_dfs[0], chiefs_dfs[1]]\n",
    "niners_dfs_reordered = [niners_dfs[2],niners_dfs[3],niners_dfs[4], niners_dfs[5], niners_dfs[6], niners_dfs[7], niners_dfs[8], niners_dfs[9], niners_dfs[10],niners_dfs[0], niners_dfs[1]]\n",
    "bears_dfs_reordered = [bears_dfs[11],bears_dfs[12],bears_dfs[13],bears_dfs[2],bears_dfs[3],bears_dfs[4], bears_dfs[5], bears_dfs[6], bears_dfs[7], bears_dfs[8], bears_dfs[9], bears_dfs[10],bears_dfs[0], bears_dfs[1]]\n",
    "broncos_dfs_reordered = [broncos_dfs[11],broncos_dfs[12],broncos_dfs[13],broncos_dfs[2],broncos_dfs[3],broncos_dfs[4], broncos_dfs[5], broncos_dfs[6], broncos_dfs[7], broncos_dfs[8], broncos_dfs[9], broncos_dfs[10],broncos_dfs[0], broncos_dfs[1]]\n",
    "eagles_dfs_reordered = [eagles_dfs[11],eagles_dfs[12],eagles_dfs[13],eagles_dfs[2],eagles_dfs[3],eagles_dfs[4], eagles_dfs[5], eagles_dfs[6], eagles_dfs[7], eagles_dfs[8], eagles_dfs[9], eagles_dfs[10],eagles_dfs[0], eagles_dfs[1]]\n",
    "browns_wl = np.array(['win', 'loss', 'loss', 'win', 'loss', 'win', 'loss', 'loss', 'loss', 'loss', 'win', 'loss', 'loss', 'win'])\n",
    "jags_wl = np.array(['loss', 'loss', 'loss', 'loss', 'loss', 'win', 'win', 'loss', 'loss', 'loss', 'loss', 'loss', 'win', 'loss'])\n",
    "bills_wl = np.array(['win', 'win', 'loss', 'win', 'win', 'loss', 'win', 'win', 'win', 'win', 'loss', 'loss', 'win', 'win'])\n",
    "dolphs_wl = np.array(['win', 'loss', 'win', 'win', 'win', 'win', 'loss', 'loss', 'loss', 'win', 'win', 'win', 'win', 'win'])\n",
    "steelers_wl = np.array(['win', 'win', 'win', 'win', 'loss', 'loss', 'loss', 'loss', 'win', 'loss', 'loss', 'win', 'loss', 'win'])\n",
    "chiefs_wl = np.array(['loss', 'win', 'win', 'win', 'win', 'loss', 'win', 'win', 'loss', 'win', 'win', 'win', 'win', 'loss'])\n",
    "niners_wl = np.array(['win', 'win', 'loss', 'loss', 'win', 'loss', 'win', 'win', 'loss', 'loss', 'win', 'win', 'win', 'win'])\n",
    "bears_wl = np.array(['win', 'win', 'win', 'win', 'loss', 'win', 'loss', 'loss', 'loss', 'win', 'loss', 'loss', 'loss', 'loss'])\n",
    "broncos_wl = np.array(['win', 'loss', 'win', 'loss', 'win', 'win', 'loss', 'loss', 'loss', 'loss', 'win', 'loss', 'loss', 'loss'])\n",
    "eagles_wl = np.array(['loss', 'win', 'loss', 'win', 'win', 'win', 'win', 'win', 'win', 'win', 'win', 'loss', 'win', 'win'])\n",
    "### PAIN ###\n",
    "\n",
    "team_games = [browns_dfs_reordered, jags_dfs_reordered, bills_dfs_reordered, dolphs_dfs_reordered, steelers_dfs_reordered, chiefs_dfs_reordered, niners_dfs_reordered, bears_dfs_reordered, broncos_dfs_reordered, eagles_dfs_reordered]\n",
    "team_wls = [browns_wl, jags_wl, bills_wl, dolphs_wl, steelers_wl, chiefs_wl, niners_wl, bears_wl, broncos_wl, eagles_wl]\n",
    "team_data = zip(team_games, team_wls)\n",
    "\n",
    "team_win_p = []\n",
    "team_loss_p = []\n",
    "\n",
    "#list of (perc, wl)\n",
    "game_cats = []\n",
    "\n",
    "for (games, wls) in team_data:\n",
    "    wins = 0.0\n",
    "    losses = 0.0\n",
    "    pos_percs = [df.loc[df['Positive_Sentiment']==True].shape[0]/df.shape[0] for df in games]\n",
    "    #For each Win and loss, adds the positive tweet percentage to corresponding variable\n",
    "    for wl, perc in zip(wls, pos_percs):\n",
    "        game_cats.append((perc,wl))\n",
    "        if wl == 'win':\n",
    "            wins += perc\n",
    "        else:\n",
    "            losses += perc\n",
    "    #Stores Average Win/Loss Positive Tweet Percentage (PTP) for Steelers Season\n",
    "    team_win_p.append(wins / np.count_nonzero(wls == 'win'))\n",
    "    team_loss_p.append(losses / np.count_nonzero(wls == 'loss'))\n",
    "\n",
    "# Overall Pos Perc for Each teams Season\n",
    "pos_perc_season = []\n",
    "for i in range(len(team_win_p)):\n",
    "    pos_perc_season.append((team_win_p[i] + team_loss_p[i]) / 2.0)\n",
    "\n",
    "# Computes Avg. of Teams' W/L PTP\n",
    "win_const = sum(team_win_p)/len(team_win_p)\n",
    "loss_const = sum(team_loss_p)/len(team_loss_p)\n",
    "const = (win_const + loss_const) / 2.0\n",
    "\n",
    "df_chi = pd.DataFrame({\"Win\":[0,0], \"Loss\":[0,0]})\n",
    "df_chi.index = ['Above '+str(round(const,3)), 'Below '+str(round(const,3))]\n",
    "\n",
    "for (dfs, wls) in zip(team_games, team_wls):\n",
    "    percs = [df.loc[df['Positive_Sentiment']==True].shape[0]/df.shape[0] for df in dfs]\n",
    "    for perc, wl in zip(percs, wls):\n",
    "        if wl == 'win':\n",
    "            if perc > const:\n",
    "                df_chi['Win'][0] = df_chi['Win'][0] + 1\n",
    "            else:\n",
    "                df_chi['Win'][1] += 1\n",
    "        else:\n",
    "            if perc < const:\n",
    "                df_chi['Loss'][1] += 1\n",
    "            else:\n",
    "                df_chi['Loss'][0] += 1\n",
    "\n",
    "above = df_chi.iloc[0].sum()\n",
    "below = df_chi.iloc[1].sum()\n",
    "\n",
    "s = above + below\n",
    "\n",
    "win_above_e = (df_chi['Win'].sum()*above)/s\n",
    "win_above_o = df_chi['Win'][0]\n",
    "\n",
    "win_below_e = (df_chi['Win'].sum()*below)/s\n",
    "win_below_o = df_chi['Win'][1]\n",
    "\n",
    "loss_below_e = (df_chi['Loss'].sum()*below)/s\n",
    "loss_below_o = df_chi['Loss'][1]\n",
    "\n",
    "loss_above_e = (df_chi['Loss'].sum()*above)/s\n",
    "loss_above_o = df_chi['Loss'][0]\n",
    "\n",
    "expected = [win_above_e, win_below_e, loss_below_e, loss_above_e]\n",
    "observed = [win_above_o, win_below_o, loss_below_o, loss_above_o]\n",
    "\n",
    "chi = 0.0\n",
    "for e, o in zip(expected, observed):\n",
    "    chi += (e-o)**2/e\n",
    "\n",
    "print(\"t-value:\", chi)\n",
    "df_chi.head()"
   ]
  },
  {
   "cell_type": "markdown",
   "metadata": {},
   "source": []
  }
 ],
 "metadata": {
  "kernelspec": {
   "display_name": "Python 3.9.7 ('base')",
   "language": "python",
   "name": "python3"
  },
  "language_info": {
   "codemirror_mode": {
    "name": "ipython",
    "version": 3
   },
   "file_extension": ".py",
   "mimetype": "text/x-python",
   "name": "python",
   "nbconvert_exporter": "python",
   "pygments_lexer": "ipython3",
   "version": "3.9.7"
  },
  "vscode": {
   "interpreter": {
    "hash": "16196ea7eff63910081d4e10ae1bdb1eb18fd83cb470bb8efbb9fa6b0c724af5"
   }
  }
 },
 "nbformat": 4,
 "nbformat_minor": 2
}
