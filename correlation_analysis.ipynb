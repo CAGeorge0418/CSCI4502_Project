{
 "cells": [
  {
   "cell_type": "code",
   "execution_count": 2,
   "metadata": {},
   "outputs": [],
   "source": [
    "import pandas as pd\n",
    "import numpy as np\n",
    "import seaborn as sns\n",
    "import matplotlib.pyplot as plt\n",
    "import os"
   ]
  },
  {
   "cell_type": "code",
   "execution_count": null,
   "metadata": {},
   "outputs": [],
   "source": []
  },
  {
   "cell_type": "code",
   "execution_count": 7,
   "metadata": {},
   "outputs": [
    {
     "name": "stdout",
     "output_type": "stream",
     "text": [
      "[225.64758554525105, 347.596198732911, 619.3450418805728, 1031.7151232971203, 25.66039666299386, 61.025426430734896, 87.08341323106424, 19.86731081280425, 761.650621613006, 36.81720179928649, 21.23635112402508, 388.5731284085275, 41.12922922922923, 751.8334843268708]\n"
     ]
    }
   ],
   "source": [
    "steelers_csvs = os.listdir('./Steelers_Chiefs/CSVs/Steelers_CSVs')\n",
    "steelers_dfs = [pd.read_csv('./Steelers_Chiefs/CSVs/Steelers_CSVs/'+csv) for csv in steelers_csvs]\n",
    "steelers_dfs_reordered = [steelers_dfs[11],steelers_dfs[12],steelers_dfs[13],steelers_dfs[2],steelers_dfs[3],steelers_dfs[4], steelers_dfs[5], steelers_dfs[6], steelers_dfs[7], steelers_dfs[8], steelers_dfs[9], steelers_dfs[10],steelers_dfs[0], steelers_dfs[1]]\n",
    "steelers_wl = ['win', 'win', 'win', 'win', 'loss', 'loss', 'loss', 'loss', 'win', 'loss', 'loss', 'win', 'loss', 'win']\n",
    "#chiefs_wl = ['loss', 'win', 'win', 'win', 'win', 'loss', 'win', 'win', 'loss', 'win', 'win', 'win', 'win', 'loss'] \n",
    "expected = 0\n",
    "chi_squared = []\n",
    "for index, df in enumerate(steelers_dfs_reordered):\n",
    "    chi_squared_sum = df['Positive_Sentiment'].sum()\n",
    "    if steelers_wl[index] == 'win':\n",
    "        expected = df.shape[0]\n",
    "    else:\n",
    "        expected = 0.5 * df.shape[0]\n",
    "    chi_squared.append(((chi_squared_sum - expected)**2) / expected) \n",
    "print(chi_squared)\n"
   ]
  },
  {
   "cell_type": "code",
   "execution_count": null,
   "metadata": {},
   "outputs": [],
   "source": []
  }
 ],
 "metadata": {
  "kernelspec": {
   "display_name": "Python 3.11.0 64-bit",
   "language": "python",
   "name": "python3"
  },
  "language_info": {
   "codemirror_mode": {
    "name": "ipython",
    "version": 3
   },
   "file_extension": ".py",
   "mimetype": "text/x-python",
   "name": "python",
   "nbconvert_exporter": "python",
   "pygments_lexer": "ipython3",
   "version": "3.11.0"
  },
  "orig_nbformat": 4,
  "vscode": {
   "interpreter": {
    "hash": "c261aea317cc0286b3b3261fbba9abdec21eaa57589985bb7a274bf54d6cc0a7"
   }
  }
 },
 "nbformat": 4,
 "nbformat_minor": 2
}
