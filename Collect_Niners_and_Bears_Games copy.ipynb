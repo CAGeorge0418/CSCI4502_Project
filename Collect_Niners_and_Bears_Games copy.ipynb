{
 "cells": [
  {
   "cell_type": "code",
   "execution_count": 3,
   "id": "367905b4",
   "metadata": {},
   "outputs": [],
   "source": [
    "import pandas as pd\n",
    "import numpy as np\n",
    "from Collect_and_Clean_Tweets import create_full_data_frame, make_csv_from_df\n",
    "from tqdm import tqdm\n",
    "import time"
   ]
  },
  {
   "cell_type": "code",
   "execution_count": 4,
   "id": "e8c3beba",
   "metadata": {},
   "outputs": [
    {
     "name": "stdout",
     "output_type": "stream",
     "text": [
      "1\n",
      "2\n"
     ]
    }
   ],
   "source": [
    "print(1)\n",
    "time.sleep(10)\n",
    "print(2)"
   ]
  },
  {
   "cell_type": "code",
   "execution_count": 7,
   "id": "0c397bd3",
   "metadata": {},
   "outputs": [],
   "source": [
    "list_of_quries_broncos = [\n",
    "    'Niners  ((#Niners OR #FTTB) AND -#GoPackGo) until:2022-08-15 since:2022-08-12',\n",
    "    'Niners  ((#Niners OR #FTTB) AND -#SKOL) until:2022-08-23 since:2022-08-20',\n",
    "    'Niners  ((#Niners OR #FTTB) AND -#WeAreTexans) until:2022-08-28 since:2022-08-25',\n",
    "    'Niners  ((#Niners OR #FTTB) AND -#DaBears) until:2022-09-14 since:2022-09-11',\n",
    "    'Niners  ((#Niners OR #FTTB) AND -#Seahawks) until:2022-09-21 since:2022-09-18',\n",
    "    'Niners  ((#Niners OR #FTTB) AND -#BroncosCountry) until:2022-09-28 since:2022-09-25',\n",
    "    'Niners  ((#Niners OR #FTTB) AND -#RamsHouse) until:2022-10-06 since:2022-10-03',\n",
    "    'Niners  ((#Niners OR #FTTB) AND -#KeepPounding) until:2022-10-12 since:2022-10-09',\n",
    "    'Niners  ((#Niners OR #FTTB) AND -#DirtyBirds) until:2022-10-19 since:2022-10-16',\n",
    "    'Niners  ((#Niners OR #FTTB) AND -#ChiefsKingdom) until:2022-10-26 since:2022-10-23',\n",
    "    'Niners  ((#Niners OR #FTTB) AND -#RamsHouse) until:2022-11-02 since:2022-10-30',\n",
    "    'Niners  ((#Niners OR #FTTB) AND -#BoltUp) until:2022-11-16 since:2022-11-13',\n",
    "    'Niners  ((#Niners OR #FTTB) AND -#BirdCityFootball) until:2022-11-24 since:2022-11-21',\n",
    "    'Niners  ((#Niners OR #FTTB) AND -#Saints) until:2022-11-30 since:2022-11-27',\n",
    "]\n",
    "#'Broncos  ((#Broncos OR #BroncosCountry) AND -#RaiderNation) until:2022-11-22 since:2022-11-19',\n",
    "#'Broncos  ((#Broncos OR #BroncosCountry) AND -#KeepPounding) until:2022-11-29 since:2022-11-26',\n",
    "list_csv_names_broncos =[\n",
    "    'Niners_Pre_Game1_Packers.csv',\n",
    "    'Niners_Pre_Game2_Vikings.csv',\n",
    "    'Niners_Pre_Game3_Texans.csv',\n",
    "    'Niners_Game1_Bears.csv',\n",
    "    'Niners_Game2_Seahawks.csv',\n",
    "    'Niners_Game3_Broncos.csv',\n",
    "    'Niners_Game4_Rams.csv',\n",
    "    'Niners_Game5_Panthers.csv',\n",
    "    'Niners_Game6_Falcons.csv',\n",
    "    'Niners_Game7_Chiefs.csv',\n",
    "    'Niners_Game8_Rams.csv',\n",
    "    'Niners_Game9_Chargers.csv',\n",
    "    'Niners_Game10_Cardinals.csv',\n",
    "    'Niners_Game11_Saints.csv'\n",
    "]\n",
    "#'Broncos_Game10_Raiders.csv'\n",
    "#'Broncos_Game11_Panthers.csv'\n",
    "assert(len(list_csv_names_broncos)==len(list_of_quries_broncos))"
   ]
  },
  {
   "cell_type": "code",
   "execution_count": 10,
   "id": "a5a9295e",
   "metadata": {},
   "outputs": [],
   "source": [
    "list_of_quries_eagles =[\n",
    "    'Eagles  ((#Eagles OR #FlyEaglesFly) AND -#TakeFlight) until:2022-08-15 since:2022-08-11',\n",
    "    'Eagles  ((#Eagles OR #FlyEaglesFly) AND -#Browns) until:2022-08-23 since:2022-08-20',\n",
    "    'Eagles  ((#Eagles OR #FlyEaglesFly) AND -#FinsUp) until:2022-08-29 since:2022-08-26',\n",
    "    'Eagles  ((#Eagles OR #FlyEaglesFly) AND -#OnePride) until:2022-09-13 since:2022-08-10',\n",
    "    'Eagles  ((#Eagles OR #FlyEaglesFly) AND -#SKOL) until:2022-09-21 since:2022-08-18',\n",
    "    'Eagles  ((#Eagles OR #FlyEaglesFly) AND -#HTTC) until:2022-09-27 since:2022-08-24',\n",
    "    'Eagles  ((#Eagles OR #FlyEaglesFly) AND -#DUUUVAL) until:2022-10-04 since:2022-10-01',\n",
    "    'Eagles  ((#Eagles OR #FlyEaglesFly) AND -#BirdCityFootball) until:2022-10-11 since:2022-10-08',\n",
    "    'Eagles  ((#Eagles OR #FlyEaglesFly) AND -#DallasCowboys) until:2022-10-18 since:2022-10-15',\n",
    "    'Eagles  ((#Eagles OR #FlyEaglesFly) AND -#HereWeGo) until:2022-11-01 since:2022-10-29',\n",
    "    'Eagles  ((#Eagles OR #FlyEaglesFly) AND -#WeAreTexans) until:2022-11-05 since:2022-11-02',\n",
    "    'Eagles  ((#Eagles OR #FlyEaglesFly) AND -#HTTC) until:2022-11-16 since:2022-10-13',\n",
    "    'Eagles  ((#Eagles OR #FlyEaglesFly) AND -#ForTheShoe) until:2022-11-22 since:2022-11-19',\n",
    "    'Eagles  ((#Eagles OR #FlyEaglesFly) AND -#GoPackGo) until:2022-11-29 since:2022-11-26',\n",
    "]\n",
    "#'Eagles  ((#Eagles OR #FlyEaglesFly) AND -#ForTheShoe) until:2022-11-22 since:2022-11-19',\n",
    "#'Eagles  ((#Eagles OR #FlyEaglesFly) AND -#GoPackGo) until:2022-11-29 since:2022-11-26',\n",
    "list_csv_names_eagles =[\n",
    "    'Eagles_Pre_Game1_Jets.csv',\n",
    "    'Eagles_Pre_Game2_Browns.csv',\n",
    "    'Eagles_Pre_Game3_Dolphins.csv',\n",
    "    'Eagles_Game1_Lions.csv',\n",
    "    'Eagles_Game2_Vikings.csv',\n",
    "    'Eagles_Game3_Washington.csv',\n",
    "    'Eagles_Game4_Jaguars.csv',\n",
    "    'Eagles_Game5_Cardinals.csv',\n",
    "    'Eagles_Game6_Cowboys.csv',\n",
    "    'Eagles_Game7_Steelers.csv',\n",
    "    'Eagles_Game8_Texans.csv',\n",
    "    'Eagles_Game9_Colts.csv',\n",
    "    'Eagles_Game10_Washington.csv',\n",
    "    'Eagles_Game11_GreenBay.csv',\n",
    "]\n",
    "#'Eagles_Game10_Washington.csv',\n",
    "#'Eagles_Game11_GreenBay.csv',\n",
    "assert(len(list_csv_names_eagles)==len(list_of_quries_eagles))"
   ]
  },
  {
   "cell_type": "code",
   "execution_count": 8,
   "id": "200ea2a1",
   "metadata": {},
   "outputs": [
    {
     "name": "stderr",
     "output_type": "stream",
     "text": [
      "  8%|██████▉                                                                            | 1/12 [00:57<10:36, 57.82s/it]"
     ]
    },
    {
     "name": "stdout",
     "output_type": "stream",
     "text": [
      "Broncos_Pre_Game1_Cowboys.csv made\n"
     ]
    },
    {
     "name": "stderr",
     "output_type": "stream",
     "text": [
      "\r\n",
      " 17%|█████████████▊                                                                     | 2/12 [01:38<07:57, 47.76s/it]"
     ]
    },
    {
     "name": "stdout",
     "output_type": "stream",
     "text": [
      "Broncos_Pre_Game2_Bills.csv made\n"
     ]
    },
    {
     "name": "stderr",
     "output_type": "stream",
     "text": [
      "\r\n",
      " 25%|████████████████████▊                                                              | 3/12 [02:14<06:22, 42.53s/it]"
     ]
    },
    {
     "name": "stdout",
     "output_type": "stream",
     "text": [
      "Broncos_Pre_Game3_Vikings.csv made\n"
     ]
    },
    {
     "name": "stderr",
     "output_type": "stream",
     "text": [
      "\r\n",
      " 33%|███████████████████████████▎                                                      | 4/12 [05:25<13:28, 101.08s/it]"
     ]
    },
    {
     "name": "stdout",
     "output_type": "stream",
     "text": [
      "Broncos_Game1_Seahawks.csv made\n"
     ]
    },
    {
     "name": "stderr",
     "output_type": "stream",
     "text": [
      "\r\n",
      " 42%|██████████████████████████████████▏                                               | 5/12 [07:26<12:36, 108.05s/it]"
     ]
    },
    {
     "name": "stdout",
     "output_type": "stream",
     "text": [
      "Broncos_Game2_Texans.csv made\n"
     ]
    },
    {
     "name": "stderr",
     "output_type": "stream",
     "text": [
      "\r\n",
      " 50%|█████████████████████████████████████████                                         | 6/12 [10:10<12:43, 127.24s/it]"
     ]
    },
    {
     "name": "stdout",
     "output_type": "stream",
     "text": [
      "Broncos_Game3_49ers.csv made\n"
     ]
    },
    {
     "name": "stderr",
     "output_type": "stream",
     "text": [
      "\r\n",
      " 58%|███████████████████████████████████████████████▊                                  | 7/12 [12:02<10:10, 122.12s/it]"
     ]
    },
    {
     "name": "stdout",
     "output_type": "stream",
     "text": [
      "Broncos_Game4_Raiders.csv made\n"
     ]
    },
    {
     "name": "stderr",
     "output_type": "stream",
     "text": [
      "\r\n",
      " 67%|██████████████████████████████████████████████████████▋                           | 8/12 [12:56<06:42, 100.63s/it]"
     ]
    },
    {
     "name": "stdout",
     "output_type": "stream",
     "text": [
      "Broncos_Game5_Colts.csv made\n"
     ]
    },
    {
     "name": "stderr",
     "output_type": "stream",
     "text": [
      "\r\n",
      " 75%|█████████████████████████████████████████████████████████████▌                    | 9/12 [16:07<06:26, 128.91s/it]"
     ]
    },
    {
     "name": "stdout",
     "output_type": "stream",
     "text": [
      "Broncos_Game6_Chargers.csv made\n"
     ]
    },
    {
     "name": "stderr",
     "output_type": "stream",
     "text": [
      "\r\n",
      " 83%|███████████████████████████████████████████████████████████████████▌             | 10/12 [23:01<07:13, 216.92s/it]"
     ]
    },
    {
     "name": "stdout",
     "output_type": "stream",
     "text": [
      "Broncos_Game7_Jets.csv made\n"
     ]
    },
    {
     "name": "stderr",
     "output_type": "stream",
     "text": [
      "\r\n",
      " 92%|██████████████████████████████████████████████████████████████████████████▎      | 11/12 [25:09<03:09, 189.62s/it]"
     ]
    },
    {
     "name": "stdout",
     "output_type": "stream",
     "text": [
      "Broncos_Game8_Jaguars.csv made\n"
     ]
    },
    {
     "name": "stderr",
     "output_type": "stream",
     "text": [
      "100%|█████████████████████████████████████████████████████████████████████████████████| 12/12 [26:21<00:00, 131.78s/it]"
     ]
    },
    {
     "name": "stdout",
     "output_type": "stream",
     "text": [
      "Broncos_Game9_Titans.csv made\n"
     ]
    },
    {
     "name": "stderr",
     "output_type": "stream",
     "text": [
      "\n"
     ]
    }
   ],
   "source": [
    "limit = 10000\n",
    "queries_less_than_500 = []\n",
    "for i, ele in enumerate(tqdm(list_of_quries_broncos)):\n",
    "    if (i+1)%7 == 0:\n",
    "        time.sleep(120)\n",
    "    df = create_full_data_frame(list_of_quries_broncos[i],limit)\n",
    "    if(len(df)<=500):\n",
    "        print(list_of_quries_broncos[i], len(df))\n",
    "        queries_less_than_500.append(i)\n",
    "    else:\n",
    "        make_csv_from_df(df,list_csv_names_broncos[i])\n",
    "        #print(f\"{list_csv_names_broncos[i]} made\")\n",
    "        \n",
    "time.sleep(60*5)\n",
    "\n",
    "limit = 10000\n",
    "queries_less_than_500 = []\n",
    "for i, ele in enumerate(tqdm(eagle_games_quries_list)):\n",
    "    if (i+1)%7 == 0:\n",
    "        time.sleep(120)\n",
    "    df = create_full_data_frame(eagle_games_quries_list[i],limit)\n",
    "    if(len(df)<=500):\n",
    "        print(eagle_games_quries_list[i], len(df))\n",
    "        queries_less_than_500.append(i)\n",
    "    else:\n",
    "        make_csv_from_df(df,eagles_games_csv_list[i])\n",
    "        #print(f\"{list_csv_names_eagles[i]} made\")"
   ]
  },
  {
   "cell_type": "code",
   "execution_count": 12,
   "id": "501065e8",
   "metadata": {},
   "outputs": [],
   "source": [
    "eagle_games_quries_list = [\n",
    "    'Eagles  ((#Eagles OR #FlyEaglesFly) AND -#DallasCowboys) until:2022-10-18 since:2022-10-15',\n",
    "    'Eagles  ((#Eagles OR #FlyEaglesFly) AND -#HereWeGo) until:2022-11-01 since:2022-10-29',\n",
    "    'Eagles  ((#Eagles OR #FlyEaglesFly) AND -#WeAreTexans) until:2022-11-05 since:2022-10-02',\n",
    "    'Eagles  ((#Eagles OR #FlyEaglesFly) AND -#HTTC) until:2022-11-16 since:2022-10-13'\n",
    "]\n",
    "eagles_games_csv_list = [\n",
    "    'Eagles_Game6_Cowboys.csv',\n",
    "    'Eagles_Game7_Steelers.csv',\n",
    "    'Eagles_Game8_Texans.csv',\n",
    "    'Eagles_Game9_Colts.csv']"
   ]
  },
  {
   "cell_type": "code",
   "execution_count": 13,
   "id": "444ac557",
   "metadata": {},
   "outputs": [
    {
     "name": "stderr",
     "output_type": "stream",
     "text": [
      "100%|███████████████████████████████████████████████████████████████████████████████████| 4/4 [17:19<00:00, 259.82s/it]\n"
     ]
    }
   ],
   "source": [
    "limit = 10000\n",
    "queries_less_than_500 = []\n",
    "for i, ele in enumerate(tqdm(eagle_games_quries_list)):\n",
    "    df = create_full_data_frame(eagle_games_quries_list[i],limit)\n",
    "    if(len(df)<=500):\n",
    "        print(eagle_games_quries_list[i], len(df))\n",
    "        queries_less_than_500.append(i)\n",
    "    else:\n",
    "        make_csv_from_df(df,eagles_games_csv_list[i])\n",
    "        #print(f\"{list_csv_names_eagles[i]} made\")"
   ]
  },
  {
   "cell_type": "code",
   "execution_count": null,
   "id": "96d4ce27",
   "metadata": {},
   "outputs": [],
   "source": []
  }
 ],
 "metadata": {
  "kernelspec": {
   "display_name": "Python 3.9.13 64-bit (microsoft store)",
   "language": "python",
   "name": "python3"
  },
  "language_info": {
   "codemirror_mode": {
    "name": "ipython",
    "version": 3
   },
   "file_extension": ".py",
   "mimetype": "text/x-python",
   "name": "python",
   "nbconvert_exporter": "python",
   "pygments_lexer": "ipython3",
   "version": "3.9.13"
  },
  "vscode": {
   "interpreter": {
    "hash": "6aa40184943719ff8ac736bd72f983c6c698908247fa2e3b3e297452c913fb30"
   }
  }
 },
 "nbformat": 4,
 "nbformat_minor": 5
}
